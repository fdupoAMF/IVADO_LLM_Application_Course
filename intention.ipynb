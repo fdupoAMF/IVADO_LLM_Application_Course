{
  "nbformat": 4,
  "nbformat_minor": 0,
  "metadata": {
    "colab": {
      "provenance": [],
      "gpuType": "T4",
      "include_colab_link": true
    },
    "kernelspec": {
      "name": "python3",
      "display_name": "Python 3"
    },
    "language_info": {
      "name": "python"
    },
    "accelerator": "GPU",
    "widgets": {
      "application/vnd.jupyter.widget-state+json": {
        "3c68cb9ad2464e2a980cc67507061b99": {
          "model_module": "@jupyter-widgets/controls",
          "model_name": "HBoxModel",
          "model_module_version": "1.5.0",
          "state": {
            "_dom_classes": [],
            "_model_module": "@jupyter-widgets/controls",
            "_model_module_version": "1.5.0",
            "_model_name": "HBoxModel",
            "_view_count": null,
            "_view_module": "@jupyter-widgets/controls",
            "_view_module_version": "1.5.0",
            "_view_name": "HBoxView",
            "box_style": "",
            "children": [
              "IPY_MODEL_f5b6fe2da96d4b39a9da77077f5f2d1b",
              "IPY_MODEL_c10fb1482d6c4572929e411e1303ed83",
              "IPY_MODEL_0b0c828ddbee4480b00279376a6fbbae"
            ],
            "layout": "IPY_MODEL_ef9de10ee0ba48519447ff0e9aa8cfdc"
          }
        },
        "f5b6fe2da96d4b39a9da77077f5f2d1b": {
          "model_module": "@jupyter-widgets/controls",
          "model_name": "HTMLModel",
          "model_module_version": "1.5.0",
          "state": {
            "_dom_classes": [],
            "_model_module": "@jupyter-widgets/controls",
            "_model_module_version": "1.5.0",
            "_model_name": "HTMLModel",
            "_view_count": null,
            "_view_module": "@jupyter-widgets/controls",
            "_view_module_version": "1.5.0",
            "_view_name": "HTMLView",
            "description": "",
            "description_tooltip": null,
            "layout": "IPY_MODEL_bbc8f4ded950428d8c5ab50cd9cab6bf",
            "placeholder": "​",
            "style": "IPY_MODEL_6ee53ccef5a64a6a90d31bb8b398a042",
            "value": "tokenizer_config.json: 100%"
          }
        },
        "c10fb1482d6c4572929e411e1303ed83": {
          "model_module": "@jupyter-widgets/controls",
          "model_name": "FloatProgressModel",
          "model_module_version": "1.5.0",
          "state": {
            "_dom_classes": [],
            "_model_module": "@jupyter-widgets/controls",
            "_model_module_version": "1.5.0",
            "_model_name": "FloatProgressModel",
            "_view_count": null,
            "_view_module": "@jupyter-widgets/controls",
            "_view_module_version": "1.5.0",
            "_view_name": "ProgressView",
            "bar_style": "success",
            "description": "",
            "description_tooltip": null,
            "layout": "IPY_MODEL_5e2b447038a643d496450da62e04f437",
            "max": 48,
            "min": 0,
            "orientation": "horizontal",
            "style": "IPY_MODEL_c5166d89c2d34f2ab68a34456959b94d",
            "value": 48
          }
        },
        "0b0c828ddbee4480b00279376a6fbbae": {
          "model_module": "@jupyter-widgets/controls",
          "model_name": "HTMLModel",
          "model_module_version": "1.5.0",
          "state": {
            "_dom_classes": [],
            "_model_module": "@jupyter-widgets/controls",
            "_model_module_version": "1.5.0",
            "_model_name": "HTMLModel",
            "_view_count": null,
            "_view_module": "@jupyter-widgets/controls",
            "_view_module_version": "1.5.0",
            "_view_name": "HTMLView",
            "description": "",
            "description_tooltip": null,
            "layout": "IPY_MODEL_cc462cd2dbe54b46951ac4dfccc041ea",
            "placeholder": "​",
            "style": "IPY_MODEL_400c6ddeeaf349b792391e1f7d52ab4e",
            "value": " 48.0/48.0 [00:00&lt;00:00, 3.32kB/s]"
          }
        },
        "ef9de10ee0ba48519447ff0e9aa8cfdc": {
          "model_module": "@jupyter-widgets/base",
          "model_name": "LayoutModel",
          "model_module_version": "1.2.0",
          "state": {
            "_model_module": "@jupyter-widgets/base",
            "_model_module_version": "1.2.0",
            "_model_name": "LayoutModel",
            "_view_count": null,
            "_view_module": "@jupyter-widgets/base",
            "_view_module_version": "1.2.0",
            "_view_name": "LayoutView",
            "align_content": null,
            "align_items": null,
            "align_self": null,
            "border": null,
            "bottom": null,
            "display": null,
            "flex": null,
            "flex_flow": null,
            "grid_area": null,
            "grid_auto_columns": null,
            "grid_auto_flow": null,
            "grid_auto_rows": null,
            "grid_column": null,
            "grid_gap": null,
            "grid_row": null,
            "grid_template_areas": null,
            "grid_template_columns": null,
            "grid_template_rows": null,
            "height": null,
            "justify_content": null,
            "justify_items": null,
            "left": null,
            "margin": null,
            "max_height": null,
            "max_width": null,
            "min_height": null,
            "min_width": null,
            "object_fit": null,
            "object_position": null,
            "order": null,
            "overflow": null,
            "overflow_x": null,
            "overflow_y": null,
            "padding": null,
            "right": null,
            "top": null,
            "visibility": null,
            "width": null
          }
        },
        "bbc8f4ded950428d8c5ab50cd9cab6bf": {
          "model_module": "@jupyter-widgets/base",
          "model_name": "LayoutModel",
          "model_module_version": "1.2.0",
          "state": {
            "_model_module": "@jupyter-widgets/base",
            "_model_module_version": "1.2.0",
            "_model_name": "LayoutModel",
            "_view_count": null,
            "_view_module": "@jupyter-widgets/base",
            "_view_module_version": "1.2.0",
            "_view_name": "LayoutView",
            "align_content": null,
            "align_items": null,
            "align_self": null,
            "border": null,
            "bottom": null,
            "display": null,
            "flex": null,
            "flex_flow": null,
            "grid_area": null,
            "grid_auto_columns": null,
            "grid_auto_flow": null,
            "grid_auto_rows": null,
            "grid_column": null,
            "grid_gap": null,
            "grid_row": null,
            "grid_template_areas": null,
            "grid_template_columns": null,
            "grid_template_rows": null,
            "height": null,
            "justify_content": null,
            "justify_items": null,
            "left": null,
            "margin": null,
            "max_height": null,
            "max_width": null,
            "min_height": null,
            "min_width": null,
            "object_fit": null,
            "object_position": null,
            "order": null,
            "overflow": null,
            "overflow_x": null,
            "overflow_y": null,
            "padding": null,
            "right": null,
            "top": null,
            "visibility": null,
            "width": null
          }
        },
        "6ee53ccef5a64a6a90d31bb8b398a042": {
          "model_module": "@jupyter-widgets/controls",
          "model_name": "DescriptionStyleModel",
          "model_module_version": "1.5.0",
          "state": {
            "_model_module": "@jupyter-widgets/controls",
            "_model_module_version": "1.5.0",
            "_model_name": "DescriptionStyleModel",
            "_view_count": null,
            "_view_module": "@jupyter-widgets/base",
            "_view_module_version": "1.2.0",
            "_view_name": "StyleView",
            "description_width": ""
          }
        },
        "5e2b447038a643d496450da62e04f437": {
          "model_module": "@jupyter-widgets/base",
          "model_name": "LayoutModel",
          "model_module_version": "1.2.0",
          "state": {
            "_model_module": "@jupyter-widgets/base",
            "_model_module_version": "1.2.0",
            "_model_name": "LayoutModel",
            "_view_count": null,
            "_view_module": "@jupyter-widgets/base",
            "_view_module_version": "1.2.0",
            "_view_name": "LayoutView",
            "align_content": null,
            "align_items": null,
            "align_self": null,
            "border": null,
            "bottom": null,
            "display": null,
            "flex": null,
            "flex_flow": null,
            "grid_area": null,
            "grid_auto_columns": null,
            "grid_auto_flow": null,
            "grid_auto_rows": null,
            "grid_column": null,
            "grid_gap": null,
            "grid_row": null,
            "grid_template_areas": null,
            "grid_template_columns": null,
            "grid_template_rows": null,
            "height": null,
            "justify_content": null,
            "justify_items": null,
            "left": null,
            "margin": null,
            "max_height": null,
            "max_width": null,
            "min_height": null,
            "min_width": null,
            "object_fit": null,
            "object_position": null,
            "order": null,
            "overflow": null,
            "overflow_x": null,
            "overflow_y": null,
            "padding": null,
            "right": null,
            "top": null,
            "visibility": null,
            "width": null
          }
        },
        "c5166d89c2d34f2ab68a34456959b94d": {
          "model_module": "@jupyter-widgets/controls",
          "model_name": "ProgressStyleModel",
          "model_module_version": "1.5.0",
          "state": {
            "_model_module": "@jupyter-widgets/controls",
            "_model_module_version": "1.5.0",
            "_model_name": "ProgressStyleModel",
            "_view_count": null,
            "_view_module": "@jupyter-widgets/base",
            "_view_module_version": "1.2.0",
            "_view_name": "StyleView",
            "bar_color": null,
            "description_width": ""
          }
        },
        "cc462cd2dbe54b46951ac4dfccc041ea": {
          "model_module": "@jupyter-widgets/base",
          "model_name": "LayoutModel",
          "model_module_version": "1.2.0",
          "state": {
            "_model_module": "@jupyter-widgets/base",
            "_model_module_version": "1.2.0",
            "_model_name": "LayoutModel",
            "_view_count": null,
            "_view_module": "@jupyter-widgets/base",
            "_view_module_version": "1.2.0",
            "_view_name": "LayoutView",
            "align_content": null,
            "align_items": null,
            "align_self": null,
            "border": null,
            "bottom": null,
            "display": null,
            "flex": null,
            "flex_flow": null,
            "grid_area": null,
            "grid_auto_columns": null,
            "grid_auto_flow": null,
            "grid_auto_rows": null,
            "grid_column": null,
            "grid_gap": null,
            "grid_row": null,
            "grid_template_areas": null,
            "grid_template_columns": null,
            "grid_template_rows": null,
            "height": null,
            "justify_content": null,
            "justify_items": null,
            "left": null,
            "margin": null,
            "max_height": null,
            "max_width": null,
            "min_height": null,
            "min_width": null,
            "object_fit": null,
            "object_position": null,
            "order": null,
            "overflow": null,
            "overflow_x": null,
            "overflow_y": null,
            "padding": null,
            "right": null,
            "top": null,
            "visibility": null,
            "width": null
          }
        },
        "400c6ddeeaf349b792391e1f7d52ab4e": {
          "model_module": "@jupyter-widgets/controls",
          "model_name": "DescriptionStyleModel",
          "model_module_version": "1.5.0",
          "state": {
            "_model_module": "@jupyter-widgets/controls",
            "_model_module_version": "1.5.0",
            "_model_name": "DescriptionStyleModel",
            "_view_count": null,
            "_view_module": "@jupyter-widgets/base",
            "_view_module_version": "1.2.0",
            "_view_name": "StyleView",
            "description_width": ""
          }
        },
        "53cbc8c8b8bc481aa2234e115e07b0ae": {
          "model_module": "@jupyter-widgets/controls",
          "model_name": "HBoxModel",
          "model_module_version": "1.5.0",
          "state": {
            "_dom_classes": [],
            "_model_module": "@jupyter-widgets/controls",
            "_model_module_version": "1.5.0",
            "_model_name": "HBoxModel",
            "_view_count": null,
            "_view_module": "@jupyter-widgets/controls",
            "_view_module_version": "1.5.0",
            "_view_name": "HBoxView",
            "box_style": "",
            "children": [
              "IPY_MODEL_5091007aa3554dce963b701151c91a1b",
              "IPY_MODEL_d1486e666219420b9d6f395e3956182d",
              "IPY_MODEL_b3a8041b984c4d0e806f0c38791e4874"
            ],
            "layout": "IPY_MODEL_95f833c1edfb4a549e768dcacbf48c21"
          }
        },
        "5091007aa3554dce963b701151c91a1b": {
          "model_module": "@jupyter-widgets/controls",
          "model_name": "HTMLModel",
          "model_module_version": "1.5.0",
          "state": {
            "_dom_classes": [],
            "_model_module": "@jupyter-widgets/controls",
            "_model_module_version": "1.5.0",
            "_model_name": "HTMLModel",
            "_view_count": null,
            "_view_module": "@jupyter-widgets/controls",
            "_view_module_version": "1.5.0",
            "_view_name": "HTMLView",
            "description": "",
            "description_tooltip": null,
            "layout": "IPY_MODEL_082351a6e3a94162a0c38aa1bb4aa66f",
            "placeholder": "​",
            "style": "IPY_MODEL_9f9c40fe56f34685a9a6f70d62c79416",
            "value": "config.json: 100%"
          }
        },
        "d1486e666219420b9d6f395e3956182d": {
          "model_module": "@jupyter-widgets/controls",
          "model_name": "FloatProgressModel",
          "model_module_version": "1.5.0",
          "state": {
            "_dom_classes": [],
            "_model_module": "@jupyter-widgets/controls",
            "_model_module_version": "1.5.0",
            "_model_name": "FloatProgressModel",
            "_view_count": null,
            "_view_module": "@jupyter-widgets/controls",
            "_view_module_version": "1.5.0",
            "_view_name": "ProgressView",
            "bar_style": "success",
            "description": "",
            "description_tooltip": null,
            "layout": "IPY_MODEL_c17465db6185408a8743efaff71dca2d",
            "max": 570,
            "min": 0,
            "orientation": "horizontal",
            "style": "IPY_MODEL_4c8907d41d844532b4b2b39eb967b5f8",
            "value": 570
          }
        },
        "b3a8041b984c4d0e806f0c38791e4874": {
          "model_module": "@jupyter-widgets/controls",
          "model_name": "HTMLModel",
          "model_module_version": "1.5.0",
          "state": {
            "_dom_classes": [],
            "_model_module": "@jupyter-widgets/controls",
            "_model_module_version": "1.5.0",
            "_model_name": "HTMLModel",
            "_view_count": null,
            "_view_module": "@jupyter-widgets/controls",
            "_view_module_version": "1.5.0",
            "_view_name": "HTMLView",
            "description": "",
            "description_tooltip": null,
            "layout": "IPY_MODEL_9d92644161f6415c80113b58962e409b",
            "placeholder": "​",
            "style": "IPY_MODEL_4be47d941b4e4465a97b9ff28dbc8489",
            "value": " 570/570 [00:00&lt;00:00, 32.7kB/s]"
          }
        },
        "95f833c1edfb4a549e768dcacbf48c21": {
          "model_module": "@jupyter-widgets/base",
          "model_name": "LayoutModel",
          "model_module_version": "1.2.0",
          "state": {
            "_model_module": "@jupyter-widgets/base",
            "_model_module_version": "1.2.0",
            "_model_name": "LayoutModel",
            "_view_count": null,
            "_view_module": "@jupyter-widgets/base",
            "_view_module_version": "1.2.0",
            "_view_name": "LayoutView",
            "align_content": null,
            "align_items": null,
            "align_self": null,
            "border": null,
            "bottom": null,
            "display": null,
            "flex": null,
            "flex_flow": null,
            "grid_area": null,
            "grid_auto_columns": null,
            "grid_auto_flow": null,
            "grid_auto_rows": null,
            "grid_column": null,
            "grid_gap": null,
            "grid_row": null,
            "grid_template_areas": null,
            "grid_template_columns": null,
            "grid_template_rows": null,
            "height": null,
            "justify_content": null,
            "justify_items": null,
            "left": null,
            "margin": null,
            "max_height": null,
            "max_width": null,
            "min_height": null,
            "min_width": null,
            "object_fit": null,
            "object_position": null,
            "order": null,
            "overflow": null,
            "overflow_x": null,
            "overflow_y": null,
            "padding": null,
            "right": null,
            "top": null,
            "visibility": null,
            "width": null
          }
        },
        "082351a6e3a94162a0c38aa1bb4aa66f": {
          "model_module": "@jupyter-widgets/base",
          "model_name": "LayoutModel",
          "model_module_version": "1.2.0",
          "state": {
            "_model_module": "@jupyter-widgets/base",
            "_model_module_version": "1.2.0",
            "_model_name": "LayoutModel",
            "_view_count": null,
            "_view_module": "@jupyter-widgets/base",
            "_view_module_version": "1.2.0",
            "_view_name": "LayoutView",
            "align_content": null,
            "align_items": null,
            "align_self": null,
            "border": null,
            "bottom": null,
            "display": null,
            "flex": null,
            "flex_flow": null,
            "grid_area": null,
            "grid_auto_columns": null,
            "grid_auto_flow": null,
            "grid_auto_rows": null,
            "grid_column": null,
            "grid_gap": null,
            "grid_row": null,
            "grid_template_areas": null,
            "grid_template_columns": null,
            "grid_template_rows": null,
            "height": null,
            "justify_content": null,
            "justify_items": null,
            "left": null,
            "margin": null,
            "max_height": null,
            "max_width": null,
            "min_height": null,
            "min_width": null,
            "object_fit": null,
            "object_position": null,
            "order": null,
            "overflow": null,
            "overflow_x": null,
            "overflow_y": null,
            "padding": null,
            "right": null,
            "top": null,
            "visibility": null,
            "width": null
          }
        },
        "9f9c40fe56f34685a9a6f70d62c79416": {
          "model_module": "@jupyter-widgets/controls",
          "model_name": "DescriptionStyleModel",
          "model_module_version": "1.5.0",
          "state": {
            "_model_module": "@jupyter-widgets/controls",
            "_model_module_version": "1.5.0",
            "_model_name": "DescriptionStyleModel",
            "_view_count": null,
            "_view_module": "@jupyter-widgets/base",
            "_view_module_version": "1.2.0",
            "_view_name": "StyleView",
            "description_width": ""
          }
        },
        "c17465db6185408a8743efaff71dca2d": {
          "model_module": "@jupyter-widgets/base",
          "model_name": "LayoutModel",
          "model_module_version": "1.2.0",
          "state": {
            "_model_module": "@jupyter-widgets/base",
            "_model_module_version": "1.2.0",
            "_model_name": "LayoutModel",
            "_view_count": null,
            "_view_module": "@jupyter-widgets/base",
            "_view_module_version": "1.2.0",
            "_view_name": "LayoutView",
            "align_content": null,
            "align_items": null,
            "align_self": null,
            "border": null,
            "bottom": null,
            "display": null,
            "flex": null,
            "flex_flow": null,
            "grid_area": null,
            "grid_auto_columns": null,
            "grid_auto_flow": null,
            "grid_auto_rows": null,
            "grid_column": null,
            "grid_gap": null,
            "grid_row": null,
            "grid_template_areas": null,
            "grid_template_columns": null,
            "grid_template_rows": null,
            "height": null,
            "justify_content": null,
            "justify_items": null,
            "left": null,
            "margin": null,
            "max_height": null,
            "max_width": null,
            "min_height": null,
            "min_width": null,
            "object_fit": null,
            "object_position": null,
            "order": null,
            "overflow": null,
            "overflow_x": null,
            "overflow_y": null,
            "padding": null,
            "right": null,
            "top": null,
            "visibility": null,
            "width": null
          }
        },
        "4c8907d41d844532b4b2b39eb967b5f8": {
          "model_module": "@jupyter-widgets/controls",
          "model_name": "ProgressStyleModel",
          "model_module_version": "1.5.0",
          "state": {
            "_model_module": "@jupyter-widgets/controls",
            "_model_module_version": "1.5.0",
            "_model_name": "ProgressStyleModel",
            "_view_count": null,
            "_view_module": "@jupyter-widgets/base",
            "_view_module_version": "1.2.0",
            "_view_name": "StyleView",
            "bar_color": null,
            "description_width": ""
          }
        },
        "9d92644161f6415c80113b58962e409b": {
          "model_module": "@jupyter-widgets/base",
          "model_name": "LayoutModel",
          "model_module_version": "1.2.0",
          "state": {
            "_model_module": "@jupyter-widgets/base",
            "_model_module_version": "1.2.0",
            "_model_name": "LayoutModel",
            "_view_count": null,
            "_view_module": "@jupyter-widgets/base",
            "_view_module_version": "1.2.0",
            "_view_name": "LayoutView",
            "align_content": null,
            "align_items": null,
            "align_self": null,
            "border": null,
            "bottom": null,
            "display": null,
            "flex": null,
            "flex_flow": null,
            "grid_area": null,
            "grid_auto_columns": null,
            "grid_auto_flow": null,
            "grid_auto_rows": null,
            "grid_column": null,
            "grid_gap": null,
            "grid_row": null,
            "grid_template_areas": null,
            "grid_template_columns": null,
            "grid_template_rows": null,
            "height": null,
            "justify_content": null,
            "justify_items": null,
            "left": null,
            "margin": null,
            "max_height": null,
            "max_width": null,
            "min_height": null,
            "min_width": null,
            "object_fit": null,
            "object_position": null,
            "order": null,
            "overflow": null,
            "overflow_x": null,
            "overflow_y": null,
            "padding": null,
            "right": null,
            "top": null,
            "visibility": null,
            "width": null
          }
        },
        "4be47d941b4e4465a97b9ff28dbc8489": {
          "model_module": "@jupyter-widgets/controls",
          "model_name": "DescriptionStyleModel",
          "model_module_version": "1.5.0",
          "state": {
            "_model_module": "@jupyter-widgets/controls",
            "_model_module_version": "1.5.0",
            "_model_name": "DescriptionStyleModel",
            "_view_count": null,
            "_view_module": "@jupyter-widgets/base",
            "_view_module_version": "1.2.0",
            "_view_name": "StyleView",
            "description_width": ""
          }
        },
        "1d72db4823ae44ae9c4cb222a6a44380": {
          "model_module": "@jupyter-widgets/controls",
          "model_name": "HBoxModel",
          "model_module_version": "1.5.0",
          "state": {
            "_dom_classes": [],
            "_model_module": "@jupyter-widgets/controls",
            "_model_module_version": "1.5.0",
            "_model_name": "HBoxModel",
            "_view_count": null,
            "_view_module": "@jupyter-widgets/controls",
            "_view_module_version": "1.5.0",
            "_view_name": "HBoxView",
            "box_style": "",
            "children": [
              "IPY_MODEL_7132d76bfb1b41febc7eacba978fb15f",
              "IPY_MODEL_29e6f098d7bd4887bad173ea8f2cd07e",
              "IPY_MODEL_169f54b52b92437db8021e1104296b46"
            ],
            "layout": "IPY_MODEL_965fa915e3744a6d9c457a40f1539960"
          }
        },
        "7132d76bfb1b41febc7eacba978fb15f": {
          "model_module": "@jupyter-widgets/controls",
          "model_name": "HTMLModel",
          "model_module_version": "1.5.0",
          "state": {
            "_dom_classes": [],
            "_model_module": "@jupyter-widgets/controls",
            "_model_module_version": "1.5.0",
            "_model_name": "HTMLModel",
            "_view_count": null,
            "_view_module": "@jupyter-widgets/controls",
            "_view_module_version": "1.5.0",
            "_view_name": "HTMLView",
            "description": "",
            "description_tooltip": null,
            "layout": "IPY_MODEL_fca00616f1c1469dbfb134f97eb7bee9",
            "placeholder": "​",
            "style": "IPY_MODEL_025392fbc3ee47dcb1efb0a89b564178",
            "value": "vocab.txt: 100%"
          }
        },
        "29e6f098d7bd4887bad173ea8f2cd07e": {
          "model_module": "@jupyter-widgets/controls",
          "model_name": "FloatProgressModel",
          "model_module_version": "1.5.0",
          "state": {
            "_dom_classes": [],
            "_model_module": "@jupyter-widgets/controls",
            "_model_module_version": "1.5.0",
            "_model_name": "FloatProgressModel",
            "_view_count": null,
            "_view_module": "@jupyter-widgets/controls",
            "_view_module_version": "1.5.0",
            "_view_name": "ProgressView",
            "bar_style": "success",
            "description": "",
            "description_tooltip": null,
            "layout": "IPY_MODEL_8577d019b0d34cb7831654df825fb692",
            "max": 231508,
            "min": 0,
            "orientation": "horizontal",
            "style": "IPY_MODEL_aa847b3a6a9e4bfa843c661c44f7d9d4",
            "value": 231508
          }
        },
        "169f54b52b92437db8021e1104296b46": {
          "model_module": "@jupyter-widgets/controls",
          "model_name": "HTMLModel",
          "model_module_version": "1.5.0",
          "state": {
            "_dom_classes": [],
            "_model_module": "@jupyter-widgets/controls",
            "_model_module_version": "1.5.0",
            "_model_name": "HTMLModel",
            "_view_count": null,
            "_view_module": "@jupyter-widgets/controls",
            "_view_module_version": "1.5.0",
            "_view_name": "HTMLView",
            "description": "",
            "description_tooltip": null,
            "layout": "IPY_MODEL_0e18af6150c5413c8ffc1bc2bb48436b",
            "placeholder": "​",
            "style": "IPY_MODEL_68ffce4472e54f2faf83e76d9a43ff8e",
            "value": " 232k/232k [00:00&lt;00:00, 8.12MB/s]"
          }
        },
        "965fa915e3744a6d9c457a40f1539960": {
          "model_module": "@jupyter-widgets/base",
          "model_name": "LayoutModel",
          "model_module_version": "1.2.0",
          "state": {
            "_model_module": "@jupyter-widgets/base",
            "_model_module_version": "1.2.0",
            "_model_name": "LayoutModel",
            "_view_count": null,
            "_view_module": "@jupyter-widgets/base",
            "_view_module_version": "1.2.0",
            "_view_name": "LayoutView",
            "align_content": null,
            "align_items": null,
            "align_self": null,
            "border": null,
            "bottom": null,
            "display": null,
            "flex": null,
            "flex_flow": null,
            "grid_area": null,
            "grid_auto_columns": null,
            "grid_auto_flow": null,
            "grid_auto_rows": null,
            "grid_column": null,
            "grid_gap": null,
            "grid_row": null,
            "grid_template_areas": null,
            "grid_template_columns": null,
            "grid_template_rows": null,
            "height": null,
            "justify_content": null,
            "justify_items": null,
            "left": null,
            "margin": null,
            "max_height": null,
            "max_width": null,
            "min_height": null,
            "min_width": null,
            "object_fit": null,
            "object_position": null,
            "order": null,
            "overflow": null,
            "overflow_x": null,
            "overflow_y": null,
            "padding": null,
            "right": null,
            "top": null,
            "visibility": null,
            "width": null
          }
        },
        "fca00616f1c1469dbfb134f97eb7bee9": {
          "model_module": "@jupyter-widgets/base",
          "model_name": "LayoutModel",
          "model_module_version": "1.2.0",
          "state": {
            "_model_module": "@jupyter-widgets/base",
            "_model_module_version": "1.2.0",
            "_model_name": "LayoutModel",
            "_view_count": null,
            "_view_module": "@jupyter-widgets/base",
            "_view_module_version": "1.2.0",
            "_view_name": "LayoutView",
            "align_content": null,
            "align_items": null,
            "align_self": null,
            "border": null,
            "bottom": null,
            "display": null,
            "flex": null,
            "flex_flow": null,
            "grid_area": null,
            "grid_auto_columns": null,
            "grid_auto_flow": null,
            "grid_auto_rows": null,
            "grid_column": null,
            "grid_gap": null,
            "grid_row": null,
            "grid_template_areas": null,
            "grid_template_columns": null,
            "grid_template_rows": null,
            "height": null,
            "justify_content": null,
            "justify_items": null,
            "left": null,
            "margin": null,
            "max_height": null,
            "max_width": null,
            "min_height": null,
            "min_width": null,
            "object_fit": null,
            "object_position": null,
            "order": null,
            "overflow": null,
            "overflow_x": null,
            "overflow_y": null,
            "padding": null,
            "right": null,
            "top": null,
            "visibility": null,
            "width": null
          }
        },
        "025392fbc3ee47dcb1efb0a89b564178": {
          "model_module": "@jupyter-widgets/controls",
          "model_name": "DescriptionStyleModel",
          "model_module_version": "1.5.0",
          "state": {
            "_model_module": "@jupyter-widgets/controls",
            "_model_module_version": "1.5.0",
            "_model_name": "DescriptionStyleModel",
            "_view_count": null,
            "_view_module": "@jupyter-widgets/base",
            "_view_module_version": "1.2.0",
            "_view_name": "StyleView",
            "description_width": ""
          }
        },
        "8577d019b0d34cb7831654df825fb692": {
          "model_module": "@jupyter-widgets/base",
          "model_name": "LayoutModel",
          "model_module_version": "1.2.0",
          "state": {
            "_model_module": "@jupyter-widgets/base",
            "_model_module_version": "1.2.0",
            "_model_name": "LayoutModel",
            "_view_count": null,
            "_view_module": "@jupyter-widgets/base",
            "_view_module_version": "1.2.0",
            "_view_name": "LayoutView",
            "align_content": null,
            "align_items": null,
            "align_self": null,
            "border": null,
            "bottom": null,
            "display": null,
            "flex": null,
            "flex_flow": null,
            "grid_area": null,
            "grid_auto_columns": null,
            "grid_auto_flow": null,
            "grid_auto_rows": null,
            "grid_column": null,
            "grid_gap": null,
            "grid_row": null,
            "grid_template_areas": null,
            "grid_template_columns": null,
            "grid_template_rows": null,
            "height": null,
            "justify_content": null,
            "justify_items": null,
            "left": null,
            "margin": null,
            "max_height": null,
            "max_width": null,
            "min_height": null,
            "min_width": null,
            "object_fit": null,
            "object_position": null,
            "order": null,
            "overflow": null,
            "overflow_x": null,
            "overflow_y": null,
            "padding": null,
            "right": null,
            "top": null,
            "visibility": null,
            "width": null
          }
        },
        "aa847b3a6a9e4bfa843c661c44f7d9d4": {
          "model_module": "@jupyter-widgets/controls",
          "model_name": "ProgressStyleModel",
          "model_module_version": "1.5.0",
          "state": {
            "_model_module": "@jupyter-widgets/controls",
            "_model_module_version": "1.5.0",
            "_model_name": "ProgressStyleModel",
            "_view_count": null,
            "_view_module": "@jupyter-widgets/base",
            "_view_module_version": "1.2.0",
            "_view_name": "StyleView",
            "bar_color": null,
            "description_width": ""
          }
        },
        "0e18af6150c5413c8ffc1bc2bb48436b": {
          "model_module": "@jupyter-widgets/base",
          "model_name": "LayoutModel",
          "model_module_version": "1.2.0",
          "state": {
            "_model_module": "@jupyter-widgets/base",
            "_model_module_version": "1.2.0",
            "_model_name": "LayoutModel",
            "_view_count": null,
            "_view_module": "@jupyter-widgets/base",
            "_view_module_version": "1.2.0",
            "_view_name": "LayoutView",
            "align_content": null,
            "align_items": null,
            "align_self": null,
            "border": null,
            "bottom": null,
            "display": null,
            "flex": null,
            "flex_flow": null,
            "grid_area": null,
            "grid_auto_columns": null,
            "grid_auto_flow": null,
            "grid_auto_rows": null,
            "grid_column": null,
            "grid_gap": null,
            "grid_row": null,
            "grid_template_areas": null,
            "grid_template_columns": null,
            "grid_template_rows": null,
            "height": null,
            "justify_content": null,
            "justify_items": null,
            "left": null,
            "margin": null,
            "max_height": null,
            "max_width": null,
            "min_height": null,
            "min_width": null,
            "object_fit": null,
            "object_position": null,
            "order": null,
            "overflow": null,
            "overflow_x": null,
            "overflow_y": null,
            "padding": null,
            "right": null,
            "top": null,
            "visibility": null,
            "width": null
          }
        },
        "68ffce4472e54f2faf83e76d9a43ff8e": {
          "model_module": "@jupyter-widgets/controls",
          "model_name": "DescriptionStyleModel",
          "model_module_version": "1.5.0",
          "state": {
            "_model_module": "@jupyter-widgets/controls",
            "_model_module_version": "1.5.0",
            "_model_name": "DescriptionStyleModel",
            "_view_count": null,
            "_view_module": "@jupyter-widgets/base",
            "_view_module_version": "1.2.0",
            "_view_name": "StyleView",
            "description_width": ""
          }
        },
        "3c48c9acef814c6c87d731c79de72e68": {
          "model_module": "@jupyter-widgets/controls",
          "model_name": "HBoxModel",
          "model_module_version": "1.5.0",
          "state": {
            "_dom_classes": [],
            "_model_module": "@jupyter-widgets/controls",
            "_model_module_version": "1.5.0",
            "_model_name": "HBoxModel",
            "_view_count": null,
            "_view_module": "@jupyter-widgets/controls",
            "_view_module_version": "1.5.0",
            "_view_name": "HBoxView",
            "box_style": "",
            "children": [
              "IPY_MODEL_d33a7ce27fb14420aa7f62b712255136",
              "IPY_MODEL_c890a06c547d4f1ebbb9d59a468c06bb",
              "IPY_MODEL_b8124fbc5fcd41a0922169b5332a1b7c"
            ],
            "layout": "IPY_MODEL_bf2a753fe0804267bc1c4d0f06cdfbc8"
          }
        },
        "d33a7ce27fb14420aa7f62b712255136": {
          "model_module": "@jupyter-widgets/controls",
          "model_name": "HTMLModel",
          "model_module_version": "1.5.0",
          "state": {
            "_dom_classes": [],
            "_model_module": "@jupyter-widgets/controls",
            "_model_module_version": "1.5.0",
            "_model_name": "HTMLModel",
            "_view_count": null,
            "_view_module": "@jupyter-widgets/controls",
            "_view_module_version": "1.5.0",
            "_view_name": "HTMLView",
            "description": "",
            "description_tooltip": null,
            "layout": "IPY_MODEL_62af6aade27e4dc8b337eb974663cb15",
            "placeholder": "​",
            "style": "IPY_MODEL_143f0cf08dd046c48700b5713e559b4b",
            "value": "tokenizer.json: 100%"
          }
        },
        "c890a06c547d4f1ebbb9d59a468c06bb": {
          "model_module": "@jupyter-widgets/controls",
          "model_name": "FloatProgressModel",
          "model_module_version": "1.5.0",
          "state": {
            "_dom_classes": [],
            "_model_module": "@jupyter-widgets/controls",
            "_model_module_version": "1.5.0",
            "_model_name": "FloatProgressModel",
            "_view_count": null,
            "_view_module": "@jupyter-widgets/controls",
            "_view_module_version": "1.5.0",
            "_view_name": "ProgressView",
            "bar_style": "success",
            "description": "",
            "description_tooltip": null,
            "layout": "IPY_MODEL_1591d1f69aee42d4b7a30c5ca6eae69b",
            "max": 466062,
            "min": 0,
            "orientation": "horizontal",
            "style": "IPY_MODEL_df463b4a80644ffb947ddaf9443cb9c4",
            "value": 466062
          }
        },
        "b8124fbc5fcd41a0922169b5332a1b7c": {
          "model_module": "@jupyter-widgets/controls",
          "model_name": "HTMLModel",
          "model_module_version": "1.5.0",
          "state": {
            "_dom_classes": [],
            "_model_module": "@jupyter-widgets/controls",
            "_model_module_version": "1.5.0",
            "_model_name": "HTMLModel",
            "_view_count": null,
            "_view_module": "@jupyter-widgets/controls",
            "_view_module_version": "1.5.0",
            "_view_name": "HTMLView",
            "description": "",
            "description_tooltip": null,
            "layout": "IPY_MODEL_7f06d3d6a8ef4eb0aa3755329c6b8d96",
            "placeholder": "​",
            "style": "IPY_MODEL_06ef57f98a9e4be091e71eb073183e8b",
            "value": " 466k/466k [00:00&lt;00:00, 1.95MB/s]"
          }
        },
        "bf2a753fe0804267bc1c4d0f06cdfbc8": {
          "model_module": "@jupyter-widgets/base",
          "model_name": "LayoutModel",
          "model_module_version": "1.2.0",
          "state": {
            "_model_module": "@jupyter-widgets/base",
            "_model_module_version": "1.2.0",
            "_model_name": "LayoutModel",
            "_view_count": null,
            "_view_module": "@jupyter-widgets/base",
            "_view_module_version": "1.2.0",
            "_view_name": "LayoutView",
            "align_content": null,
            "align_items": null,
            "align_self": null,
            "border": null,
            "bottom": null,
            "display": null,
            "flex": null,
            "flex_flow": null,
            "grid_area": null,
            "grid_auto_columns": null,
            "grid_auto_flow": null,
            "grid_auto_rows": null,
            "grid_column": null,
            "grid_gap": null,
            "grid_row": null,
            "grid_template_areas": null,
            "grid_template_columns": null,
            "grid_template_rows": null,
            "height": null,
            "justify_content": null,
            "justify_items": null,
            "left": null,
            "margin": null,
            "max_height": null,
            "max_width": null,
            "min_height": null,
            "min_width": null,
            "object_fit": null,
            "object_position": null,
            "order": null,
            "overflow": null,
            "overflow_x": null,
            "overflow_y": null,
            "padding": null,
            "right": null,
            "top": null,
            "visibility": null,
            "width": null
          }
        },
        "62af6aade27e4dc8b337eb974663cb15": {
          "model_module": "@jupyter-widgets/base",
          "model_name": "LayoutModel",
          "model_module_version": "1.2.0",
          "state": {
            "_model_module": "@jupyter-widgets/base",
            "_model_module_version": "1.2.0",
            "_model_name": "LayoutModel",
            "_view_count": null,
            "_view_module": "@jupyter-widgets/base",
            "_view_module_version": "1.2.0",
            "_view_name": "LayoutView",
            "align_content": null,
            "align_items": null,
            "align_self": null,
            "border": null,
            "bottom": null,
            "display": null,
            "flex": null,
            "flex_flow": null,
            "grid_area": null,
            "grid_auto_columns": null,
            "grid_auto_flow": null,
            "grid_auto_rows": null,
            "grid_column": null,
            "grid_gap": null,
            "grid_row": null,
            "grid_template_areas": null,
            "grid_template_columns": null,
            "grid_template_rows": null,
            "height": null,
            "justify_content": null,
            "justify_items": null,
            "left": null,
            "margin": null,
            "max_height": null,
            "max_width": null,
            "min_height": null,
            "min_width": null,
            "object_fit": null,
            "object_position": null,
            "order": null,
            "overflow": null,
            "overflow_x": null,
            "overflow_y": null,
            "padding": null,
            "right": null,
            "top": null,
            "visibility": null,
            "width": null
          }
        },
        "143f0cf08dd046c48700b5713e559b4b": {
          "model_module": "@jupyter-widgets/controls",
          "model_name": "DescriptionStyleModel",
          "model_module_version": "1.5.0",
          "state": {
            "_model_module": "@jupyter-widgets/controls",
            "_model_module_version": "1.5.0",
            "_model_name": "DescriptionStyleModel",
            "_view_count": null,
            "_view_module": "@jupyter-widgets/base",
            "_view_module_version": "1.2.0",
            "_view_name": "StyleView",
            "description_width": ""
          }
        },
        "1591d1f69aee42d4b7a30c5ca6eae69b": {
          "model_module": "@jupyter-widgets/base",
          "model_name": "LayoutModel",
          "model_module_version": "1.2.0",
          "state": {
            "_model_module": "@jupyter-widgets/base",
            "_model_module_version": "1.2.0",
            "_model_name": "LayoutModel",
            "_view_count": null,
            "_view_module": "@jupyter-widgets/base",
            "_view_module_version": "1.2.0",
            "_view_name": "LayoutView",
            "align_content": null,
            "align_items": null,
            "align_self": null,
            "border": null,
            "bottom": null,
            "display": null,
            "flex": null,
            "flex_flow": null,
            "grid_area": null,
            "grid_auto_columns": null,
            "grid_auto_flow": null,
            "grid_auto_rows": null,
            "grid_column": null,
            "grid_gap": null,
            "grid_row": null,
            "grid_template_areas": null,
            "grid_template_columns": null,
            "grid_template_rows": null,
            "height": null,
            "justify_content": null,
            "justify_items": null,
            "left": null,
            "margin": null,
            "max_height": null,
            "max_width": null,
            "min_height": null,
            "min_width": null,
            "object_fit": null,
            "object_position": null,
            "order": null,
            "overflow": null,
            "overflow_x": null,
            "overflow_y": null,
            "padding": null,
            "right": null,
            "top": null,
            "visibility": null,
            "width": null
          }
        },
        "df463b4a80644ffb947ddaf9443cb9c4": {
          "model_module": "@jupyter-widgets/controls",
          "model_name": "ProgressStyleModel",
          "model_module_version": "1.5.0",
          "state": {
            "_model_module": "@jupyter-widgets/controls",
            "_model_module_version": "1.5.0",
            "_model_name": "ProgressStyleModel",
            "_view_count": null,
            "_view_module": "@jupyter-widgets/base",
            "_view_module_version": "1.2.0",
            "_view_name": "StyleView",
            "bar_color": null,
            "description_width": ""
          }
        },
        "7f06d3d6a8ef4eb0aa3755329c6b8d96": {
          "model_module": "@jupyter-widgets/base",
          "model_name": "LayoutModel",
          "model_module_version": "1.2.0",
          "state": {
            "_model_module": "@jupyter-widgets/base",
            "_model_module_version": "1.2.0",
            "_model_name": "LayoutModel",
            "_view_count": null,
            "_view_module": "@jupyter-widgets/base",
            "_view_module_version": "1.2.0",
            "_view_name": "LayoutView",
            "align_content": null,
            "align_items": null,
            "align_self": null,
            "border": null,
            "bottom": null,
            "display": null,
            "flex": null,
            "flex_flow": null,
            "grid_area": null,
            "grid_auto_columns": null,
            "grid_auto_flow": null,
            "grid_auto_rows": null,
            "grid_column": null,
            "grid_gap": null,
            "grid_row": null,
            "grid_template_areas": null,
            "grid_template_columns": null,
            "grid_template_rows": null,
            "height": null,
            "justify_content": null,
            "justify_items": null,
            "left": null,
            "margin": null,
            "max_height": null,
            "max_width": null,
            "min_height": null,
            "min_width": null,
            "object_fit": null,
            "object_position": null,
            "order": null,
            "overflow": null,
            "overflow_x": null,
            "overflow_y": null,
            "padding": null,
            "right": null,
            "top": null,
            "visibility": null,
            "width": null
          }
        },
        "06ef57f98a9e4be091e71eb073183e8b": {
          "model_module": "@jupyter-widgets/controls",
          "model_name": "DescriptionStyleModel",
          "model_module_version": "1.5.0",
          "state": {
            "_model_module": "@jupyter-widgets/controls",
            "_model_module_version": "1.5.0",
            "_model_name": "DescriptionStyleModel",
            "_view_count": null,
            "_view_module": "@jupyter-widgets/base",
            "_view_module_version": "1.2.0",
            "_view_name": "StyleView",
            "description_width": ""
          }
        },
        "6482544fe7bb4fa6b0a1eef54344613d": {
          "model_module": "@jupyter-widgets/controls",
          "model_name": "HBoxModel",
          "model_module_version": "1.5.0",
          "state": {
            "_dom_classes": [],
            "_model_module": "@jupyter-widgets/controls",
            "_model_module_version": "1.5.0",
            "_model_name": "HBoxModel",
            "_view_count": null,
            "_view_module": "@jupyter-widgets/controls",
            "_view_module_version": "1.5.0",
            "_view_name": "HBoxView",
            "box_style": "",
            "children": [
              "IPY_MODEL_ea9e155078ad469d82ca6b7c415607ec",
              "IPY_MODEL_d948d4e047e845de98546311ba1befe9",
              "IPY_MODEL_c8a02a07167e4ce5a7e22ceabb3aed80"
            ],
            "layout": "IPY_MODEL_a71994ced64e4d3183b85448267b6285"
          }
        },
        "ea9e155078ad469d82ca6b7c415607ec": {
          "model_module": "@jupyter-widgets/controls",
          "model_name": "HTMLModel",
          "model_module_version": "1.5.0",
          "state": {
            "_dom_classes": [],
            "_model_module": "@jupyter-widgets/controls",
            "_model_module_version": "1.5.0",
            "_model_name": "HTMLModel",
            "_view_count": null,
            "_view_module": "@jupyter-widgets/controls",
            "_view_module_version": "1.5.0",
            "_view_name": "HTMLView",
            "description": "",
            "description_tooltip": null,
            "layout": "IPY_MODEL_86273c002b0f4ec48e9673bd07fb9980",
            "placeholder": "​",
            "style": "IPY_MODEL_f3f97234ae09429fb63c464697e78aeb",
            "value": "model.safetensors: 100%"
          }
        },
        "d948d4e047e845de98546311ba1befe9": {
          "model_module": "@jupyter-widgets/controls",
          "model_name": "FloatProgressModel",
          "model_module_version": "1.5.0",
          "state": {
            "_dom_classes": [],
            "_model_module": "@jupyter-widgets/controls",
            "_model_module_version": "1.5.0",
            "_model_name": "FloatProgressModel",
            "_view_count": null,
            "_view_module": "@jupyter-widgets/controls",
            "_view_module_version": "1.5.0",
            "_view_name": "ProgressView",
            "bar_style": "success",
            "description": "",
            "description_tooltip": null,
            "layout": "IPY_MODEL_5c0dd84d180448d9bb615370a0fe512a",
            "max": 440449768,
            "min": 0,
            "orientation": "horizontal",
            "style": "IPY_MODEL_41610dc51ff34327b7edec6e33b31790",
            "value": 440449768
          }
        },
        "c8a02a07167e4ce5a7e22ceabb3aed80": {
          "model_module": "@jupyter-widgets/controls",
          "model_name": "HTMLModel",
          "model_module_version": "1.5.0",
          "state": {
            "_dom_classes": [],
            "_model_module": "@jupyter-widgets/controls",
            "_model_module_version": "1.5.0",
            "_model_name": "HTMLModel",
            "_view_count": null,
            "_view_module": "@jupyter-widgets/controls",
            "_view_module_version": "1.5.0",
            "_view_name": "HTMLView",
            "description": "",
            "description_tooltip": null,
            "layout": "IPY_MODEL_c9e61fcb22b94f3e82cfbf05925a8e58",
            "placeholder": "​",
            "style": "IPY_MODEL_5e455be31720409f9308cfdd30052f0a",
            "value": " 440M/440M [00:01&lt;00:00, 235MB/s]"
          }
        },
        "a71994ced64e4d3183b85448267b6285": {
          "model_module": "@jupyter-widgets/base",
          "model_name": "LayoutModel",
          "model_module_version": "1.2.0",
          "state": {
            "_model_module": "@jupyter-widgets/base",
            "_model_module_version": "1.2.0",
            "_model_name": "LayoutModel",
            "_view_count": null,
            "_view_module": "@jupyter-widgets/base",
            "_view_module_version": "1.2.0",
            "_view_name": "LayoutView",
            "align_content": null,
            "align_items": null,
            "align_self": null,
            "border": null,
            "bottom": null,
            "display": null,
            "flex": null,
            "flex_flow": null,
            "grid_area": null,
            "grid_auto_columns": null,
            "grid_auto_flow": null,
            "grid_auto_rows": null,
            "grid_column": null,
            "grid_gap": null,
            "grid_row": null,
            "grid_template_areas": null,
            "grid_template_columns": null,
            "grid_template_rows": null,
            "height": null,
            "justify_content": null,
            "justify_items": null,
            "left": null,
            "margin": null,
            "max_height": null,
            "max_width": null,
            "min_height": null,
            "min_width": null,
            "object_fit": null,
            "object_position": null,
            "order": null,
            "overflow": null,
            "overflow_x": null,
            "overflow_y": null,
            "padding": null,
            "right": null,
            "top": null,
            "visibility": null,
            "width": null
          }
        },
        "86273c002b0f4ec48e9673bd07fb9980": {
          "model_module": "@jupyter-widgets/base",
          "model_name": "LayoutModel",
          "model_module_version": "1.2.0",
          "state": {
            "_model_module": "@jupyter-widgets/base",
            "_model_module_version": "1.2.0",
            "_model_name": "LayoutModel",
            "_view_count": null,
            "_view_module": "@jupyter-widgets/base",
            "_view_module_version": "1.2.0",
            "_view_name": "LayoutView",
            "align_content": null,
            "align_items": null,
            "align_self": null,
            "border": null,
            "bottom": null,
            "display": null,
            "flex": null,
            "flex_flow": null,
            "grid_area": null,
            "grid_auto_columns": null,
            "grid_auto_flow": null,
            "grid_auto_rows": null,
            "grid_column": null,
            "grid_gap": null,
            "grid_row": null,
            "grid_template_areas": null,
            "grid_template_columns": null,
            "grid_template_rows": null,
            "height": null,
            "justify_content": null,
            "justify_items": null,
            "left": null,
            "margin": null,
            "max_height": null,
            "max_width": null,
            "min_height": null,
            "min_width": null,
            "object_fit": null,
            "object_position": null,
            "order": null,
            "overflow": null,
            "overflow_x": null,
            "overflow_y": null,
            "padding": null,
            "right": null,
            "top": null,
            "visibility": null,
            "width": null
          }
        },
        "f3f97234ae09429fb63c464697e78aeb": {
          "model_module": "@jupyter-widgets/controls",
          "model_name": "DescriptionStyleModel",
          "model_module_version": "1.5.0",
          "state": {
            "_model_module": "@jupyter-widgets/controls",
            "_model_module_version": "1.5.0",
            "_model_name": "DescriptionStyleModel",
            "_view_count": null,
            "_view_module": "@jupyter-widgets/base",
            "_view_module_version": "1.2.0",
            "_view_name": "StyleView",
            "description_width": ""
          }
        },
        "5c0dd84d180448d9bb615370a0fe512a": {
          "model_module": "@jupyter-widgets/base",
          "model_name": "LayoutModel",
          "model_module_version": "1.2.0",
          "state": {
            "_model_module": "@jupyter-widgets/base",
            "_model_module_version": "1.2.0",
            "_model_name": "LayoutModel",
            "_view_count": null,
            "_view_module": "@jupyter-widgets/base",
            "_view_module_version": "1.2.0",
            "_view_name": "LayoutView",
            "align_content": null,
            "align_items": null,
            "align_self": null,
            "border": null,
            "bottom": null,
            "display": null,
            "flex": null,
            "flex_flow": null,
            "grid_area": null,
            "grid_auto_columns": null,
            "grid_auto_flow": null,
            "grid_auto_rows": null,
            "grid_column": null,
            "grid_gap": null,
            "grid_row": null,
            "grid_template_areas": null,
            "grid_template_columns": null,
            "grid_template_rows": null,
            "height": null,
            "justify_content": null,
            "justify_items": null,
            "left": null,
            "margin": null,
            "max_height": null,
            "max_width": null,
            "min_height": null,
            "min_width": null,
            "object_fit": null,
            "object_position": null,
            "order": null,
            "overflow": null,
            "overflow_x": null,
            "overflow_y": null,
            "padding": null,
            "right": null,
            "top": null,
            "visibility": null,
            "width": null
          }
        },
        "41610dc51ff34327b7edec6e33b31790": {
          "model_module": "@jupyter-widgets/controls",
          "model_name": "ProgressStyleModel",
          "model_module_version": "1.5.0",
          "state": {
            "_model_module": "@jupyter-widgets/controls",
            "_model_module_version": "1.5.0",
            "_model_name": "ProgressStyleModel",
            "_view_count": null,
            "_view_module": "@jupyter-widgets/base",
            "_view_module_version": "1.2.0",
            "_view_name": "StyleView",
            "bar_color": null,
            "description_width": ""
          }
        },
        "c9e61fcb22b94f3e82cfbf05925a8e58": {
          "model_module": "@jupyter-widgets/base",
          "model_name": "LayoutModel",
          "model_module_version": "1.2.0",
          "state": {
            "_model_module": "@jupyter-widgets/base",
            "_model_module_version": "1.2.0",
            "_model_name": "LayoutModel",
            "_view_count": null,
            "_view_module": "@jupyter-widgets/base",
            "_view_module_version": "1.2.0",
            "_view_name": "LayoutView",
            "align_content": null,
            "align_items": null,
            "align_self": null,
            "border": null,
            "bottom": null,
            "display": null,
            "flex": null,
            "flex_flow": null,
            "grid_area": null,
            "grid_auto_columns": null,
            "grid_auto_flow": null,
            "grid_auto_rows": null,
            "grid_column": null,
            "grid_gap": null,
            "grid_row": null,
            "grid_template_areas": null,
            "grid_template_columns": null,
            "grid_template_rows": null,
            "height": null,
            "justify_content": null,
            "justify_items": null,
            "left": null,
            "margin": null,
            "max_height": null,
            "max_width": null,
            "min_height": null,
            "min_width": null,
            "object_fit": null,
            "object_position": null,
            "order": null,
            "overflow": null,
            "overflow_x": null,
            "overflow_y": null,
            "padding": null,
            "right": null,
            "top": null,
            "visibility": null,
            "width": null
          }
        },
        "5e455be31720409f9308cfdd30052f0a": {
          "model_module": "@jupyter-widgets/controls",
          "model_name": "DescriptionStyleModel",
          "model_module_version": "1.5.0",
          "state": {
            "_model_module": "@jupyter-widgets/controls",
            "_model_module_version": "1.5.0",
            "_model_name": "DescriptionStyleModel",
            "_view_count": null,
            "_view_module": "@jupyter-widgets/base",
            "_view_module_version": "1.2.0",
            "_view_name": "StyleView",
            "description_width": ""
          }
        }
      }
    }
  },
  "cells": [
    {
      "cell_type": "markdown",
      "metadata": {
        "id": "view-in-github",
        "colab_type": "text"
      },
      "source": [
        "<a href=\"https://colab.research.google.com/github/fdupoAMF/IVADO_LLM_Application_Course/blob/main/intention.ipynb\" target=\"_parent\"><img src=\"https://colab.research.google.com/assets/colab-badge.svg\" alt=\"Open In Colab\"/></a>"
      ]
    },
    {
      "cell_type": "markdown",
      "source": [
        "### **Hands-on Session 1:**\n",
        "### **Intention Detection for Technical Forum Posts**\n",
        "\n",
        "\n",
        "#### Task: Classifying technical posts into seven intention categories: `Discrepancy`, `Explicit Error`, `Review`, `Conceptual`, `Learning`, `How-to`, and `Others`.\n",
        "\n",
        "\n",
        "#### **Objective**\n",
        "- Gain hands-on experience with using and tuning a Large Language Model (LLM) through a concrete example.\n",
        "- Develop a clearer understanding of the BERT structure and the fine-tuning process.\n",
        "- Learn how to add task-specific structures, such as a classification head, to a BERT model.\n",
        "- Understand how to freeze a portion of the parameters in a BERT model.\n",
        "- Compare different pre-trained variants of BERT to understand their strengths and applications.\n",
        "\n",
        "*To speed up the training process, we need to turn on the GPU support for Colab:*\n",
        "\n",
        "* `Edit`-> `Notebook Settings` -> `T4 GPU` (or other available) -> `Save`"
      ],
      "metadata": {
        "id": "bSMSvCV5Acgq"
      }
    },
    {
      "cell_type": "markdown",
      "source": [
        "#### **Download dependencies & Loading packages**"
      ],
      "metadata": {
        "id": "KMTH1sJINFzf"
      }
    },
    {
      "cell_type": "code",
      "source": [
        "path_files = 'https://github.com/mooselab/llm_training_supplimentary_intention/archive/refs/tags/release.zip'\n",
        "!wget $path_files\n",
        "# Decompress zipped files\n",
        "!unzip release.zip"
      ],
      "metadata": {
        "id": "mbqyHrnTKAho",
        "outputId": "410af805-0f95-4b2f-be9f-24793a00bd34",
        "colab": {
          "base_uri": "https://localhost:8080/"
        }
      },
      "execution_count": 1,
      "outputs": [
        {
          "output_type": "stream",
          "name": "stdout",
          "text": [
            "--2024-05-30 18:05:26--  https://github.com/mooselab/llm_training_supplimentary_intention/archive/refs/tags/release.zip\n",
            "Resolving github.com (github.com)... 20.205.243.166\n",
            "Connecting to github.com (github.com)|20.205.243.166|:443... connected.\n",
            "HTTP request sent, awaiting response... 302 Found\n",
            "Location: https://codeload.github.com/mooselab/llm_training_supplimentary_intention/zip/refs/tags/release [following]\n",
            "--2024-05-30 18:05:27--  https://codeload.github.com/mooselab/llm_training_supplimentary_intention/zip/refs/tags/release\n",
            "Resolving codeload.github.com (codeload.github.com)... 20.205.243.165\n",
            "Connecting to codeload.github.com (codeload.github.com)|20.205.243.165|:443... connected.\n",
            "HTTP request sent, awaiting response... 200 OK\n",
            "Length: unspecified [application/zip]\n",
            "Saving to: ‘release.zip’\n",
            "\n",
            "release.zip             [ <=>                ] 527.93K  --.-KB/s    in 0.009s  \n",
            "\n",
            "2024-05-30 18:05:27 (56.3 MB/s) - ‘release.zip’ saved [540601]\n",
            "\n",
            "Archive:  release.zip\n",
            "b43a50ea209b2b1b46f10000d17643ca13ff434f\n",
            "   creating: llm_training_supplimentary_intention-release/\n",
            "  inflating: llm_training_supplimentary_intention-release/LICENSE  \n",
            "   creating: llm_training_supplimentary_intention-release/dataset/\n",
            "  inflating: llm_training_supplimentary_intention-release/dataset/intention_annotation_784.npy  \n",
            "   creating: llm_training_supplimentary_intention-release/utils/\n",
            "  inflating: llm_training_supplimentary_intention-release/utils/__init__.py  \n",
            "  inflating: llm_training_supplimentary_intention-release/utils/codeblockclf.py  \n",
            "  inflating: llm_training_supplimentary_intention-release/utils/earlystopping.py  \n",
            "  inflating: llm_training_supplimentary_intention-release/utils/featuregenerator.py  \n",
            "  inflating: llm_training_supplimentary_intention-release/utils/postdataset.py  \n",
            "  inflating: llm_training_supplimentary_intention-release/utils/preprocess.py  \n"
          ]
        }
      ]
    },
    {
      "cell_type": "code",
      "source": [
        "!pip install readability\n",
        "!pip install torchview\n",
        "!python -m nltk.downloader punkt\n",
        "!pip install torchviz\n",
        "# include the utils\n",
        "base_dir = './llm_training_supplimentary_intention-release'\n",
        "\n",
        "# Add the package path to sys.path\n",
        "import sys\n",
        "if base_dir not in sys.path:\n",
        "    sys.path.append(base_dir)\n",
        "\n",
        "import torch\n",
        "from torch import cuda\n",
        "from torch.utils.data import Dataset, DataLoader\n",
        "import torchvision\n",
        "import torchviz\n",
        "from torchview import draw_graph\n",
        "import numpy as np\n",
        "from transformers import *\n",
        "from sklearn.metrics import classification_report\n",
        "import os\n",
        "import nltk\n",
        "from utils import *\n",
        "from tqdm.notebook import tqdm\n",
        "\n",
        "# Download and install some necessary packages/resources...\n",
        "nltk.download('vader_lexicon')"
      ],
      "metadata": {
        "id": "g8H_WriwMEdi",
        "outputId": "190724c7-03ab-4b6a-d3f7-17b83e67aa7a",
        "colab": {
          "base_uri": "https://localhost:8080/"
        }
      },
      "execution_count": 2,
      "outputs": [
        {
          "output_type": "stream",
          "name": "stdout",
          "text": [
            "Collecting readability\n",
            "  Downloading readability-0.3.1.tar.gz (34 kB)\n",
            "  Preparing metadata (setup.py) ... \u001b[?25l\u001b[?25hdone\n",
            "Building wheels for collected packages: readability\n",
            "  Building wheel for readability (setup.py) ... \u001b[?25l\u001b[?25hdone\n",
            "  Created wheel for readability: filename=readability-0.3.1-py3-none-any.whl size=35460 sha256=85a4f62e0cf382fcd193455650ef28f813ea47a3dd35b781ec774126534d3d5c\n",
            "  Stored in directory: /root/.cache/pip/wheels/05/07/4d/2e3a0aaba1713619a403e1a3c56e88a6fc12d753872b98771c\n",
            "Successfully built readability\n",
            "Installing collected packages: readability\n",
            "Successfully installed readability-0.3.1\n",
            "Collecting torchview\n",
            "  Downloading torchview-0.2.6-py3-none-any.whl (25 kB)\n",
            "Installing collected packages: torchview\n",
            "Successfully installed torchview-0.2.6\n",
            "/usr/lib/python3.10/runpy.py:126: RuntimeWarning: 'nltk.downloader' found in sys.modules after import of package 'nltk', but prior to execution of 'nltk.downloader'; this may result in unpredictable behaviour\n",
            "  warn(RuntimeWarning(msg))\n",
            "[nltk_data] Downloading package punkt to /root/nltk_data...\n",
            "[nltk_data]   Unzipping tokenizers/punkt.zip.\n",
            "Collecting torchviz\n",
            "  Downloading torchviz-0.0.2.tar.gz (4.9 kB)\n",
            "  Preparing metadata (setup.py) ... \u001b[?25l\u001b[?25hdone\n",
            "Requirement already satisfied: torch in /usr/local/lib/python3.10/dist-packages (from torchviz) (2.3.0+cu121)\n",
            "Requirement already satisfied: graphviz in /usr/local/lib/python3.10/dist-packages (from torchviz) (0.20.3)\n",
            "Requirement already satisfied: filelock in /usr/local/lib/python3.10/dist-packages (from torch->torchviz) (3.14.0)\n",
            "Requirement already satisfied: typing-extensions>=4.8.0 in /usr/local/lib/python3.10/dist-packages (from torch->torchviz) (4.11.0)\n",
            "Requirement already satisfied: sympy in /usr/local/lib/python3.10/dist-packages (from torch->torchviz) (1.12)\n",
            "Requirement already satisfied: networkx in /usr/local/lib/python3.10/dist-packages (from torch->torchviz) (3.3)\n",
            "Requirement already satisfied: jinja2 in /usr/local/lib/python3.10/dist-packages (from torch->torchviz) (3.1.4)\n",
            "Requirement already satisfied: fsspec in /usr/local/lib/python3.10/dist-packages (from torch->torchviz) (2023.6.0)\n",
            "Collecting nvidia-cuda-nvrtc-cu12==12.1.105 (from torch->torchviz)\n",
            "  Using cached nvidia_cuda_nvrtc_cu12-12.1.105-py3-none-manylinux1_x86_64.whl (23.7 MB)\n",
            "Collecting nvidia-cuda-runtime-cu12==12.1.105 (from torch->torchviz)\n",
            "  Using cached nvidia_cuda_runtime_cu12-12.1.105-py3-none-manylinux1_x86_64.whl (823 kB)\n",
            "Collecting nvidia-cuda-cupti-cu12==12.1.105 (from torch->torchviz)\n",
            "  Using cached nvidia_cuda_cupti_cu12-12.1.105-py3-none-manylinux1_x86_64.whl (14.1 MB)\n",
            "Collecting nvidia-cudnn-cu12==8.9.2.26 (from torch->torchviz)\n",
            "  Using cached nvidia_cudnn_cu12-8.9.2.26-py3-none-manylinux1_x86_64.whl (731.7 MB)\n",
            "Collecting nvidia-cublas-cu12==12.1.3.1 (from torch->torchviz)\n",
            "  Using cached nvidia_cublas_cu12-12.1.3.1-py3-none-manylinux1_x86_64.whl (410.6 MB)\n",
            "Collecting nvidia-cufft-cu12==11.0.2.54 (from torch->torchviz)\n",
            "  Using cached nvidia_cufft_cu12-11.0.2.54-py3-none-manylinux1_x86_64.whl (121.6 MB)\n",
            "Collecting nvidia-curand-cu12==10.3.2.106 (from torch->torchviz)\n",
            "  Using cached nvidia_curand_cu12-10.3.2.106-py3-none-manylinux1_x86_64.whl (56.5 MB)\n",
            "Collecting nvidia-cusolver-cu12==11.4.5.107 (from torch->torchviz)\n",
            "  Using cached nvidia_cusolver_cu12-11.4.5.107-py3-none-manylinux1_x86_64.whl (124.2 MB)\n",
            "Collecting nvidia-cusparse-cu12==12.1.0.106 (from torch->torchviz)\n",
            "  Using cached nvidia_cusparse_cu12-12.1.0.106-py3-none-manylinux1_x86_64.whl (196.0 MB)\n",
            "Collecting nvidia-nccl-cu12==2.20.5 (from torch->torchviz)\n",
            "  Using cached nvidia_nccl_cu12-2.20.5-py3-none-manylinux2014_x86_64.whl (176.2 MB)\n",
            "Collecting nvidia-nvtx-cu12==12.1.105 (from torch->torchviz)\n",
            "  Using cached nvidia_nvtx_cu12-12.1.105-py3-none-manylinux1_x86_64.whl (99 kB)\n",
            "Requirement already satisfied: triton==2.3.0 in /usr/local/lib/python3.10/dist-packages (from torch->torchviz) (2.3.0)\n",
            "Collecting nvidia-nvjitlink-cu12 (from nvidia-cusolver-cu12==11.4.5.107->torch->torchviz)\n",
            "  Downloading nvidia_nvjitlink_cu12-12.5.40-py3-none-manylinux2014_x86_64.whl (21.3 MB)\n",
            "\u001b[2K     \u001b[90m━━━━━━━━━━━━━━━━━━━━━━━━━━━━━━━━━━━━━━━━\u001b[0m \u001b[32m21.3/21.3 MB\u001b[0m \u001b[31m72.4 MB/s\u001b[0m eta \u001b[36m0:00:00\u001b[0m\n",
            "\u001b[?25hRequirement already satisfied: MarkupSafe>=2.0 in /usr/local/lib/python3.10/dist-packages (from jinja2->torch->torchviz) (2.1.5)\n",
            "Requirement already satisfied: mpmath>=0.19 in /usr/local/lib/python3.10/dist-packages (from sympy->torch->torchviz) (1.3.0)\n",
            "Building wheels for collected packages: torchviz\n",
            "  Building wheel for torchviz (setup.py) ... \u001b[?25l\u001b[?25hdone\n",
            "  Created wheel for torchviz: filename=torchviz-0.0.2-py3-none-any.whl size=4132 sha256=78cffe6fb19ee48529e25f1db221a7efa75069931ac69d46cc518ba4da649bd1\n",
            "  Stored in directory: /root/.cache/pip/wheels/4c/97/88/a02973217949e0db0c9f4346d154085f4725f99c4f15a87094\n",
            "Successfully built torchviz\n",
            "Installing collected packages: nvidia-nvtx-cu12, nvidia-nvjitlink-cu12, nvidia-nccl-cu12, nvidia-curand-cu12, nvidia-cufft-cu12, nvidia-cuda-runtime-cu12, nvidia-cuda-nvrtc-cu12, nvidia-cuda-cupti-cu12, nvidia-cublas-cu12, nvidia-cusparse-cu12, nvidia-cudnn-cu12, nvidia-cusolver-cu12, torchviz\n",
            "Successfully installed nvidia-cublas-cu12-12.1.3.1 nvidia-cuda-cupti-cu12-12.1.105 nvidia-cuda-nvrtc-cu12-12.1.105 nvidia-cuda-runtime-cu12-12.1.105 nvidia-cudnn-cu12-8.9.2.26 nvidia-cufft-cu12-11.0.2.54 nvidia-curand-cu12-10.3.2.106 nvidia-cusolver-cu12-11.4.5.107 nvidia-cusparse-cu12-12.1.0.106 nvidia-nccl-cu12-2.20.5 nvidia-nvjitlink-cu12-12.5.40 nvidia-nvtx-cu12-12.1.105 torchviz-0.0.2\n"
          ]
        },
        {
          "output_type": "stream",
          "name": "stderr",
          "text": [
            "/usr/local/lib/python3.10/dist-packages/transformers/deepspeed.py:23: FutureWarning: transformers.deepspeed module is deprecated and will be removed in a future version. Please import deepspeed modules directly from transformers.integrations\n",
            "  warnings.warn(\n",
            "/usr/local/lib/python3.10/dist-packages/huggingface_hub/utils/_token.py:89: UserWarning: \n",
            "The secret `HF_TOKEN` does not exist in your Colab secrets.\n",
            "To authenticate with the Hugging Face Hub, create a token in your settings tab (https://huggingface.co/settings/tokens), set it as secret in your Google Colab and restart your session.\n",
            "You will be able to reuse this secret in all of your notebooks.\n",
            "Please note that authentication is recommended but still optional to access public models or datasets.\n",
            "  warnings.warn(\n",
            "[nltk_data] Downloading package vader_lexicon to /root/nltk_data...\n"
          ]
        },
        {
          "output_type": "execute_result",
          "data": {
            "text/plain": [
              "True"
            ]
          },
          "metadata": {},
          "execution_count": 2
        }
      ]
    },
    {
      "cell_type": "markdown",
      "source": [
        "#### **Loading & understanding the dataset**\n",
        "\n",
        "First, we load the post dataset with intention annotations."
      ],
      "metadata": {
        "id": "nMOpzzuB7iov"
      }
    },
    {
      "cell_type": "code",
      "execution_count": 3,
      "metadata": {
        "id": "hxaVecxdL7nx"
      },
      "outputs": [],
      "source": [
        "dataset_path = os.path.join(base_dir, 'dataset/intention_annotation_784.npy')\n",
        "dataset = np.load(dataset_path, allow_pickle=True)"
      ]
    },
    {
      "cell_type": "code",
      "source": [
        "# Let's look at one post\n",
        "post_sample = dataset[1]\n",
        "# fields contained in one post\n",
        "print(post_sample.keys())"
      ],
      "metadata": {
        "id": "26LBmslD7vfD",
        "outputId": "d6aacd09-2c31-4e1b-c967-dc01fac3e229",
        "colab": {
          "base_uri": "https://localhost:8080/"
        }
      },
      "execution_count": 4,
      "outputs": [
        {
          "output_type": "stream",
          "name": "stdout",
          "text": [
            "dict_keys(['label', 'id', 'title', 'description', 'description_raw', 'code', 'code_fea'])\n"
          ]
        }
      ]
    },
    {
      "cell_type": "markdown",
      "source": [
        "The keys in the `dict` data structure contain different attributes of a post:\n",
        "\n",
        "- `label`: A list of intentions associated with the post. The intentions are from one or more from the following categories: `Discrepancy`, `Errors`, `Review`, `Conceptual`, `Learning`, `How-to`, `Other`.\n",
        "- `id`: An URL to the online post, usually contains the unique `ID` of the post.\n",
        "- `title`: The title of the post.\n",
        "- `description`: The body of the post.\n",
        "- `description_raw`: The raw HTML description of the post, which includes formatting such as paragraphs and links.\n",
        "- `code`: A list of code snippets included in the post.\n",
        "- `code_fea`: We also use the categories of code snippets as an  additional feature. But it's unrelated to this tutorial.\n",
        "\n",
        "Let's look at a concrete example:"
      ],
      "metadata": {
        "id": "5dp0ALeFBzJz"
      }
    },
    {
      "cell_type": "code",
      "source": [
        "import pandas as pd\n",
        "from google.colab import data_table\n",
        "\n",
        "df = pd.DataFrame(list(post_sample.items()), columns=['Key', 'Value'])\n",
        "data_table.DataTable(df, include_index=False)"
      ],
      "metadata": {
        "id": "3PVvgCq9LQMz",
        "outputId": "44cfc2e4-7434-45e2-d85b-81b52bf35c81",
        "colab": {
          "base_uri": "https://localhost:8080/",
          "height": 320
        }
      },
      "execution_count": 5,
      "outputs": [
        {
          "output_type": "execute_result",
          "data": {
            "text/html": [
              "<div>\n",
              "<style scoped>\n",
              "    .dataframe tbody tr th:only-of-type {\n",
              "        vertical-align: middle;\n",
              "    }\n",
              "\n",
              "    .dataframe tbody tr th {\n",
              "        vertical-align: top;\n",
              "    }\n",
              "\n",
              "    .dataframe thead th {\n",
              "        text-align: right;\n",
              "    }\n",
              "</style>\n",
              "<table border=\"1\" class=\"dataframe\">\n",
              "  <thead>\n",
              "    <tr style=\"text-align: right;\">\n",
              "      <th></th>\n",
              "      <th>Key</th>\n",
              "      <th>Value</th>\n",
              "    </tr>\n",
              "  </thead>\n",
              "  <tbody>\n",
              "    <tr>\n",
              "      <th>0</th>\n",
              "      <td>label</td>\n",
              "      <td>[Errors]</td>\n",
              "    </tr>\n",
              "    <tr>\n",
              "      <th>1</th>\n",
              "      <td>id</td>\n",
              "      <td>https://stackoverflow.com/questions/72557738</td>\n",
              "    </tr>\n",
              "    <tr>\n",
              "      <th>2</th>\n",
              "      <td>title</td>\n",
              "      <td>Command \"python setup.py egg_info\" failed with...</td>\n",
              "    </tr>\n",
              "    <tr>\n",
              "      <th>3</th>\n",
              "      <td>description</td>\n",
              "      <td>I'm trying to set up mindsdb in local(visual s...</td>\n",
              "    </tr>\n",
              "    <tr>\n",
              "      <th>4</th>\n",
              "      <td>description_raw</td>\n",
              "      <td>&lt;p&gt;I'm trying to set up mindsdb in local(visua...</td>\n",
              "    </tr>\n",
              "    <tr>\n",
              "      <th>5</th>\n",
              "      <td>code</td>\n",
              "      <td>[pip3 install mindsdb \\n, Command &amp;quot;python...</td>\n",
              "    </tr>\n",
              "    <tr>\n",
              "      <th>6</th>\n",
              "      <td>code_fea</td>\n",
              "      <td>[0.0163803145125303, 0.013248739994429572, 0.1...</td>\n",
              "    </tr>\n",
              "  </tbody>\n",
              "</table>\n",
              "</div>"
            ],
            "application/vnd.google.colaboratory.module+javascript": "\n      import \"https://ssl.gstatic.com/colaboratory/data_table/881c4a0d49046431/data_table.js\";\n\n      const table = window.createDataTable({\n        data: [[\"label\",\n[\"Errors\"]],\n [\"id\",\n\"https://stackoverflow.com/questions/72557738\"],\n [\"title\",\n\"Command \\\"python setup.py egg_info\\\" failed with error code 1 in /tmp/pip-build-epojkmk3/duckdb/\"],\n [\"description\",\n\"I'm trying to set up mindsdb in local(visual studio code) with (python version 3.7) using pip3 install mindsdb command but facing an error. Command \\\"python setup.py egg_info\\\" failed with error code 1 in /tmp/pip-build-epojkmk3/duckdb/ How do I resolving this error?\"],\n [\"description_raw\",\n\"<p>I'm trying to set up mindsdb in local(visual studio code) with (python version 3.7) using<\\/p>\\n<pre><code>pip3 install mindsdb \\n<\\/code><\\/pre>\\n<p>command but facing an error.<\\/p>\\n<pre><code>Command &quot;python setup.py egg_info&quot; failed with error code 1 in /tmp/pip-build-epojkmk3/duckdb/\\n<\\/code><\\/pre>\\n<p>How do I resolving this error?<\\/p>\\n\"],\n [\"code\",\n[\"pip3 install mindsdb \\n\", \"Command &quot;python setup.py egg_info&quot; failed with error code 1 in /tmp/pip-build-epojkmk3/duckdb/\\n\"]],\n [\"code_fea\",\n\"[0.01638031 0.01324874 0.19329876 0.13227859 0.97585787]\"]],\n        columns: [[\"string\", \"Key\"], [\"string\", \"Value\"]],\n        columnOptions: [],\n        rowsPerPage: 25,\n        helpUrl: \"https://colab.research.google.com/notebooks/data_table.ipynb\",\n        suppressOutputScrolling: true,\n        minimumWidth: undefined,\n      });\n\n      function appendQuickchartButton(parentElement) {\n        let quickchartButtonContainerElement = document.createElement('div');\n        quickchartButtonContainerElement.innerHTML = `\n<div id=\"df-ed8621a7-b379-4de5-8a41-49a3b4bf3fe5\">\n  <button class=\"colab-df-quickchart\" onclick=\"quickchart('df-ed8621a7-b379-4de5-8a41-49a3b4bf3fe5')\"\n            title=\"Suggest charts\"\n            style=\"display:none;\">\n    \n<svg xmlns=\"http://www.w3.org/2000/svg\" height=\"24px\"viewBox=\"0 0 24 24\"\n     width=\"24px\">\n    <g>\n        <path d=\"M19 3H5c-1.1 0-2 .9-2 2v14c0 1.1.9 2 2 2h14c1.1 0 2-.9 2-2V5c0-1.1-.9-2-2-2zM9 17H7v-7h2v7zm4 0h-2V7h2v10zm4 0h-2v-4h2v4z\"/>\n    </g>\n</svg>\n  </button>\n  \n<style>\n  .colab-df-quickchart {\n      --bg-color: #E8F0FE;\n      --fill-color: #1967D2;\n      --hover-bg-color: #E2EBFA;\n      --hover-fill-color: #174EA6;\n      --disabled-fill-color: #AAA;\n      --disabled-bg-color: #DDD;\n  }\n\n  [theme=dark] .colab-df-quickchart {\n      --bg-color: #3B4455;\n      --fill-color: #D2E3FC;\n      --hover-bg-color: #434B5C;\n      --hover-fill-color: #FFFFFF;\n      --disabled-bg-color: #3B4455;\n      --disabled-fill-color: #666;\n  }\n\n  .colab-df-quickchart {\n    background-color: var(--bg-color);\n    border: none;\n    border-radius: 50%;\n    cursor: pointer;\n    display: none;\n    fill: var(--fill-color);\n    height: 32px;\n    padding: 0;\n    width: 32px;\n  }\n\n  .colab-df-quickchart:hover {\n    background-color: var(--hover-bg-color);\n    box-shadow: 0 1px 2px rgba(60, 64, 67, 0.3), 0 1px 3px 1px rgba(60, 64, 67, 0.15);\n    fill: var(--button-hover-fill-color);\n  }\n\n  .colab-df-quickchart-complete:disabled,\n  .colab-df-quickchart-complete:disabled:hover {\n    background-color: var(--disabled-bg-color);\n    fill: var(--disabled-fill-color);\n    box-shadow: none;\n  }\n\n  .colab-df-spinner {\n    border: 2px solid var(--fill-color);\n    border-color: transparent;\n    border-bottom-color: var(--fill-color);\n    animation:\n      spin 1s steps(1) infinite;\n  }\n\n  @keyframes spin {\n    0% {\n      border-color: transparent;\n      border-bottom-color: var(--fill-color);\n      border-left-color: var(--fill-color);\n    }\n    20% {\n      border-color: transparent;\n      border-left-color: var(--fill-color);\n      border-top-color: var(--fill-color);\n    }\n    30% {\n      border-color: transparent;\n      border-left-color: var(--fill-color);\n      border-top-color: var(--fill-color);\n      border-right-color: var(--fill-color);\n    }\n    40% {\n      border-color: transparent;\n      border-right-color: var(--fill-color);\n      border-top-color: var(--fill-color);\n    }\n    60% {\n      border-color: transparent;\n      border-right-color: var(--fill-color);\n    }\n    80% {\n      border-color: transparent;\n      border-right-color: var(--fill-color);\n      border-bottom-color: var(--fill-color);\n    }\n    90% {\n      border-color: transparent;\n      border-bottom-color: var(--fill-color);\n    }\n  }\n</style>\n\n  <script>\n    async function quickchart(key) {\n      const quickchartButtonEl =\n        document.querySelector('#' + key + ' button');\n      quickchartButtonEl.disabled = true;  // To prevent multiple clicks.\n      quickchartButtonEl.classList.add('colab-df-spinner');\n      try {\n        const charts = await google.colab.kernel.invokeFunction(\n            'suggestCharts', [key], {});\n      } catch (error) {\n        console.error('Error during call to suggestCharts:', error);\n      }\n      quickchartButtonEl.classList.remove('colab-df-spinner');\n      quickchartButtonEl.classList.add('colab-df-quickchart-complete');\n    }\n    (() => {\n      let quickchartButtonEl =\n        document.querySelector('#df-ed8621a7-b379-4de5-8a41-49a3b4bf3fe5 button');\n      quickchartButtonEl.style.display =\n        google.colab.kernel.accessAllowed ? 'block' : 'none';\n    })();\n  </script>\n</div>`;\n        parentElement.appendChild(quickchartButtonContainerElement);\n      }\n\n      appendQuickchartButton(table);\n    ",
            "text/plain": [
              "<google.colab.data_table.DataTable object>"
            ]
          },
          "metadata": {},
          "execution_count": 5
        }
      ]
    },
    {
      "cell_type": "markdown",
      "source": [
        "#### **Splitting the dataset**"
      ],
      "metadata": {
        "id": "VJxYe8T-NfKa"
      }
    },
    {
      "cell_type": "markdown",
      "source": [
        "Now, we split the dataset into a training set and a test set with a ratio of 0.8/0.2."
      ],
      "metadata": {
        "id": "XzMcf74O3CYz"
      }
    },
    {
      "cell_type": "code",
      "source": [
        "from sklearn.model_selection import train_test_split\n",
        "post_train, post_test = train_test_split(dataset, test_size=0.2, random_state=0)"
      ],
      "metadata": {
        "id": "oVOyAjrjP5jO"
      },
      "execution_count": 6,
      "outputs": []
    },
    {
      "cell_type": "markdown",
      "source": [
        "⏰ The fine-tuning can be quite time-consuming.\n",
        "\n",
        "We'll generate a 'lucky' model for each participant. So, with our lucky models in hand, let the comparing games begin!"
      ],
      "metadata": {
        "id": "ujvAnPiq3Vuy"
      }
    },
    {
      "cell_type": "markdown",
      "source": [
        "#### **Loading a pre-trained model and its tokenizer**"
      ],
      "metadata": {
        "id": "-N55DHBSNk3i"
      }
    },
    {
      "cell_type": "code",
      "source": [
        "model_list = ['bert-base', 'distilbert', 'roberta', 'albert', 'codebert', 'BERTOverflow']\n",
        "lucky_number = np.random.randint(0, 100)\n",
        "model_index = lucky_number%len(model_list)\n",
        "print(f'Your lucky model is {model_list[model_index]}!')"
      ],
      "metadata": {
        "id": "7rJWcAFZWYRQ",
        "outputId": "1ccc0056-4f19-4f67-f923-ef9cd09c3576",
        "colab": {
          "base_uri": "https://localhost:8080/"
        }
      },
      "execution_count": 7,
      "outputs": [
        {
          "output_type": "stream",
          "name": "stdout",
          "text": [
            "Your lucky model is bert-base!\n"
          ]
        }
      ]
    },
    {
      "cell_type": "code",
      "source": [
        "logging.set_verbosity_error()\n",
        "# For each pre-trained BERT model, we load the pre-trained tokenizer and the model itself.\n",
        "# The pre-trained tokenizer is a model that has been previously trained on a large corpus of text to efficiently segment and convert text into tokens for further processing by LLM.\n",
        "if model_index == 0:\n",
        "  tokenizer = AutoTokenizer.from_pretrained(\"bert-base-uncased\")\n",
        "  ptm = AutoModel.from_pretrained(\"bert-base-uncased\", output_hidden_states=True)\n",
        "elif model_index == 1:\n",
        "  tokenizer = AutoTokenizer.from_pretrained(\"distilbert-base-uncased\")\n",
        "  ptm = AutoModel.from_pretrained(\"distilbert-base-uncased\", output_hidden_states=True)\n",
        "  # ptm = DistilBertForSequenceClassification.from_pretrained(ptm, output_hidden_states=True, num_labels=768)\n",
        "elif model_index == 2:\n",
        "  tokenizer = RobertaTokenizer.from_pretrained('roberta-base')\n",
        "  ptm = RobertaModel.from_pretrained('roberta-base', output_hidden_states=True)\n",
        "elif model_index == 3:\n",
        "  tokenizer = AlbertTokenizer.from_pretrained('albert-base-v2')\n",
        "  ptm = AlbertModel.from_pretrained(\"albert-base-v2\", output_hidden_states=True)\n",
        "elif model_index == 4:\n",
        "  tokenizer = AutoTokenizer.from_pretrained(\"microsoft/codebert-base\")\n",
        "  ptm = AutoModel.from_pretrained(\"microsoft/codebert-base\", output_hidden_states=True)\n",
        "elif model_index == 5:\n",
        "  tokenizer = AutoTokenizer.from_pretrained(\"jeniya/BERTOverflow\")\n",
        "  ptm = AutoModel.from_pretrained(\"jeniya/BERTOverflow\")\n",
        "else:\n",
        "  raise ValueError('Invalid model index')"
      ],
      "metadata": {
        "id": "SaJcwUAFXaxC",
        "outputId": "a5a16f81-650d-44b4-f367-dbdff7cad113",
        "colab": {
          "base_uri": "https://localhost:8080/",
          "height": 232,
          "referenced_widgets": [
            "3c68cb9ad2464e2a980cc67507061b99",
            "f5b6fe2da96d4b39a9da77077f5f2d1b",
            "c10fb1482d6c4572929e411e1303ed83",
            "0b0c828ddbee4480b00279376a6fbbae",
            "ef9de10ee0ba48519447ff0e9aa8cfdc",
            "bbc8f4ded950428d8c5ab50cd9cab6bf",
            "6ee53ccef5a64a6a90d31bb8b398a042",
            "5e2b447038a643d496450da62e04f437",
            "c5166d89c2d34f2ab68a34456959b94d",
            "cc462cd2dbe54b46951ac4dfccc041ea",
            "400c6ddeeaf349b792391e1f7d52ab4e",
            "53cbc8c8b8bc481aa2234e115e07b0ae",
            "5091007aa3554dce963b701151c91a1b",
            "d1486e666219420b9d6f395e3956182d",
            "b3a8041b984c4d0e806f0c38791e4874",
            "95f833c1edfb4a549e768dcacbf48c21",
            "082351a6e3a94162a0c38aa1bb4aa66f",
            "9f9c40fe56f34685a9a6f70d62c79416",
            "c17465db6185408a8743efaff71dca2d",
            "4c8907d41d844532b4b2b39eb967b5f8",
            "9d92644161f6415c80113b58962e409b",
            "4be47d941b4e4465a97b9ff28dbc8489",
            "1d72db4823ae44ae9c4cb222a6a44380",
            "7132d76bfb1b41febc7eacba978fb15f",
            "29e6f098d7bd4887bad173ea8f2cd07e",
            "169f54b52b92437db8021e1104296b46",
            "965fa915e3744a6d9c457a40f1539960",
            "fca00616f1c1469dbfb134f97eb7bee9",
            "025392fbc3ee47dcb1efb0a89b564178",
            "8577d019b0d34cb7831654df825fb692",
            "aa847b3a6a9e4bfa843c661c44f7d9d4",
            "0e18af6150c5413c8ffc1bc2bb48436b",
            "68ffce4472e54f2faf83e76d9a43ff8e",
            "3c48c9acef814c6c87d731c79de72e68",
            "d33a7ce27fb14420aa7f62b712255136",
            "c890a06c547d4f1ebbb9d59a468c06bb",
            "b8124fbc5fcd41a0922169b5332a1b7c",
            "bf2a753fe0804267bc1c4d0f06cdfbc8",
            "62af6aade27e4dc8b337eb974663cb15",
            "143f0cf08dd046c48700b5713e559b4b",
            "1591d1f69aee42d4b7a30c5ca6eae69b",
            "df463b4a80644ffb947ddaf9443cb9c4",
            "7f06d3d6a8ef4eb0aa3755329c6b8d96",
            "06ef57f98a9e4be091e71eb073183e8b",
            "6482544fe7bb4fa6b0a1eef54344613d",
            "ea9e155078ad469d82ca6b7c415607ec",
            "d948d4e047e845de98546311ba1befe9",
            "c8a02a07167e4ce5a7e22ceabb3aed80",
            "a71994ced64e4d3183b85448267b6285",
            "86273c002b0f4ec48e9673bd07fb9980",
            "f3f97234ae09429fb63c464697e78aeb",
            "5c0dd84d180448d9bb615370a0fe512a",
            "41610dc51ff34327b7edec6e33b31790",
            "c9e61fcb22b94f3e82cfbf05925a8e58",
            "5e455be31720409f9308cfdd30052f0a"
          ]
        }
      },
      "execution_count": 8,
      "outputs": [
        {
          "output_type": "display_data",
          "data": {
            "text/plain": [
              "tokenizer_config.json:   0%|          | 0.00/48.0 [00:00<?, ?B/s]"
            ],
            "application/vnd.jupyter.widget-view+json": {
              "version_major": 2,
              "version_minor": 0,
              "model_id": "3c68cb9ad2464e2a980cc67507061b99"
            }
          },
          "metadata": {}
        },
        {
          "output_type": "stream",
          "name": "stderr",
          "text": [
            "/usr/local/lib/python3.10/dist-packages/huggingface_hub/file_download.py:1132: FutureWarning: `resume_download` is deprecated and will be removed in version 1.0.0. Downloads always resume when possible. If you want to force a new download, use `force_download=True`.\n",
            "  warnings.warn(\n"
          ]
        },
        {
          "output_type": "display_data",
          "data": {
            "text/plain": [
              "config.json:   0%|          | 0.00/570 [00:00<?, ?B/s]"
            ],
            "application/vnd.jupyter.widget-view+json": {
              "version_major": 2,
              "version_minor": 0,
              "model_id": "53cbc8c8b8bc481aa2234e115e07b0ae"
            }
          },
          "metadata": {}
        },
        {
          "output_type": "display_data",
          "data": {
            "text/plain": [
              "vocab.txt:   0%|          | 0.00/232k [00:00<?, ?B/s]"
            ],
            "application/vnd.jupyter.widget-view+json": {
              "version_major": 2,
              "version_minor": 0,
              "model_id": "1d72db4823ae44ae9c4cb222a6a44380"
            }
          },
          "metadata": {}
        },
        {
          "output_type": "display_data",
          "data": {
            "text/plain": [
              "tokenizer.json:   0%|          | 0.00/466k [00:00<?, ?B/s]"
            ],
            "application/vnd.jupyter.widget-view+json": {
              "version_major": 2,
              "version_minor": 0,
              "model_id": "3c48c9acef814c6c87d731c79de72e68"
            }
          },
          "metadata": {}
        },
        {
          "output_type": "display_data",
          "data": {
            "text/plain": [
              "model.safetensors:   0%|          | 0.00/440M [00:00<?, ?B/s]"
            ],
            "application/vnd.jupyter.widget-view+json": {
              "version_major": 2,
              "version_minor": 0,
              "model_id": "6482544fe7bb4fa6b0a1eef54344613d"
            }
          },
          "metadata": {}
        }
      ]
    },
    {
      "cell_type": "code",
      "source": [
        "model_name = ptm.config.name_or_path\n",
        "print(\"Model Name:\", model_name)"
      ],
      "metadata": {
        "id": "WFe7JJ_wfoUG",
        "outputId": "c714d1ec-2a27-46cf-8928-03fffd714bba",
        "colab": {
          "base_uri": "https://localhost:8080/"
        }
      },
      "execution_count": 9,
      "outputs": [
        {
          "output_type": "stream",
          "name": "stdout",
          "text": [
            "Model Name: bert-base-uncased\n"
          ]
        }
      ]
    },
    {
      "cell_type": "markdown",
      "source": [
        "#### **Construct the intention detection model with the PTM**"
      ],
      "metadata": {
        "id": "oKwxd3vPNxdc"
      }
    },
    {
      "cell_type": "code",
      "source": [
        "class IntentionBERT(torch.nn.Module):\n",
        "    def __init__(self, fea_config, loss_fn, ptm=None):\n",
        "        super(IntentionBERT, self).__init__()\n",
        "\n",
        "        self.loss_fn = loss_fn\n",
        "\n",
        "        # we also include some other textual features from the posts.\n",
        "        # but they are not important in this training session.\n",
        "        fea_dim = {\n",
        "            'code_fea' : 5,\n",
        "            'word_cnt' : 1,\n",
        "            'readability' : 3,\n",
        "            'sentiment' : 4\n",
        "        }\n",
        "\n",
        "        # BERT output\n",
        "        self.dim_emb = 768*2 # title + body embeddings (768 is the dimension of BERT output)\n",
        "\n",
        "        # Additional features\n",
        "        self.dim_fea = 0\n",
        "        for key,val in fea_config.items():\n",
        "            if val==True:\n",
        "                self.dim_fea = self.dim_fea + fea_dim[key]\n",
        "\n",
        "        # l1 is the BERT itself\n",
        "        if ptm != None:\n",
        "            self.l1 = ptm\n",
        "\n",
        "        else:\n",
        "            self.l1 = BertModel(BertConfig())\n",
        "\n",
        "        self.l3 = torch.nn.Linear(self.dim_emb, 50) # fully connected layer, converting BERT output to 50 dimensions\n",
        "\n",
        "        # Fully connected layer, concatenating the 50 dimensions from the previous step and the additional features, then output 7 dimensions (the seven classes)\n",
        "        self.l4 = torch.nn.Linear(50 + self.dim_fea, 7)\n",
        "\n",
        "        self.model_name = self.l1.config.name_or_path\n",
        "\n",
        "    def forward(self, t_ids, t_mask, t_token_type_ids, d_ids, d_mask,\n",
        "                d_token_type_ids, features, targets):\n",
        "\n",
        "        ## Feed BERT with tokenized input and obtain the sentence representation (CLS token embedding)\n",
        "\n",
        "        if self.model_name == 'distilbert-base-uncased':\n",
        "            # Take the hidden state of [CLS] token.\n",
        "            # The structure of distilbert is a little bit different from others.\n",
        "            # There is no pooler_output. We take the equivalent ['last_hidden_state'][:, 0, :] as the output.\n",
        "            output_title= self.l1(t_ids , attention_mask = t_mask)['last_hidden_state'][:, 0, :]\n",
        "            output_desc= self.l1(d_ids, attention_mask = d_mask)['last_hidden_state'][:, 0, :]\n",
        "        else:\n",
        "            output_title= self.l1(t_ids , attention_mask = t_mask , token_type_ids = t_token_type_ids)['pooler_output']\n",
        "            output_desc= self.l1(d_ids, attention_mask = d_mask, token_type_ids = d_token_type_ids)['pooler_output']\n",
        "\n",
        "        bert_emb = torch.cat((output_title, output_desc), dim=1) # concatenating the title and description embeddings\n",
        "\n",
        "        output_3 = self.l3(bert_emb) # fully connected layer, ouputing 50 dimensions\n",
        "        combined = torch.cat((output_3, features), dim=1) # concatenating the BERT outputs (condensed to 50 dimensions) and additional features\n",
        "        output = self.l4(combined) # fully connected layer, output 7 dimensions (the seven classes)\n",
        "        return output\n",
        "\n",
        "    # Taking output probabilities for the seven classes and producing the labels\n",
        "    def generate_predict_label(self, pred_prob):\n",
        "        ret = []\n",
        "        shape = pred_prob.shape\n",
        "        n_pred = len(pred_prob)\n",
        "        for i in range(n_pred):\n",
        "            lb = np.array(pred_prob[i]>=0.5)\n",
        "            if sum(lb)==0:\n",
        "                lb = np.zeros(shape[1])\n",
        "                lb[np.argmax(pred_prob[i])]=1\n",
        "                lb = np.array(lb, dtype=bool)\n",
        "            elif lb[-1] == 1:\n",
        "                lb = np.zeros(shape[1])\n",
        "                lb[-1] = 1\n",
        "                lb = np.array(lb, dtype=bool)\n",
        "            ret.append(lb)\n",
        "        return np.array(ret)\n",
        "\n",
        "    def get_prediction(self, dataloader):\n",
        "        self.eval()\n",
        "        with torch.no_grad():\n",
        "            for _, data in enumerate(dataloader, 0):\n",
        "                targets = data['targets']\n",
        "                outputs = self.forward(**data)\n",
        "                outputs = torch.sigmoid(outputs).cpu().detach().numpy()\n",
        "                targets = targets.cpu().detach().numpy().tolist()\n",
        "        target = np.array(targets[0], dtype=bool)\n",
        "        pred_label = self.generate_predict_label(outputs)[0]\n",
        "        return outputs[0], pred_label, target\n",
        "\n",
        "\n",
        "    def predict_one_post(self, post):\n",
        "        self.eval()\n",
        "        with torch.no_grad():\n",
        "            target = post['targets'].unsqueeze(dim=0)\n",
        "            output = self.forward(post['t_ids'].unsqueeze(dim=0), post['t_mask'].unsqueeze(dim=0), post['t_token_type_ids'].unsqueeze(dim=0),\n",
        "                                  post['d_ids'].unsqueeze(dim=0), post['d_mask'].unsqueeze(dim=0), post['d_token_type_ids'].unsqueeze(dim=0), post['features'].unsqueeze(dim=0), post['targets'].unsqueeze(dim=0))\n",
        "            output = torch.sigmoid(output).cpu().detach().numpy()\n",
        "            target = target.cpu().detach().numpy().tolist()\n",
        "        pred_label = self.generate_predict_label(output)[0]\n",
        "        return output[0], pred_label, target\n",
        "\n",
        "    def evaluation(self, epoch, dataloader):\n",
        "        self.eval()\n",
        "        with torch.no_grad():\n",
        "            total_loss = 0\n",
        "            fin_targets=[]\n",
        "            fin_outputs=[]\n",
        "            cnt = 0\n",
        "            for _, data in enumerate(dataloader, 0):\n",
        "                cnt = cnt + len(data['targets'])\n",
        "                targets = data['targets'] #.to(self.device, dtype = torch.float)\n",
        "                # for k,v in data.items():\n",
        "                #     data[k] = v.to(self.device, dtype = torch.long)\n",
        "                outputs = self.forward(**data)\n",
        "                loss = self.loss_fn(outputs, targets)\n",
        "                total_loss = total_loss + loss.item()\n",
        "                fin_targets.extend(targets.cpu().detach().numpy().tolist())\n",
        "                fin_outputs.extend(torch.sigmoid(outputs).cpu().detach().numpy().tolist())\n",
        "            loss = total_loss/cnt\n",
        "\n",
        "        fin_outputs_lb = self.generate_predict_label(np.array(fin_outputs))\n",
        "        report = classification_report(\n",
        "        fin_targets,\n",
        "        fin_outputs_lb,\n",
        "        output_dict=True,\n",
        "        target_names=['Discrepancy', 'Errors', 'Review', 'Conceptual', 'Learning', 'How-to', 'Other'],\n",
        "        zero_division = 0\n",
        "        )\n",
        "        cnt = 0\n",
        "        for i in range(len(fin_outputs_lb)):\n",
        "            if (np.logical_and(fin_outputs_lb[i], fin_targets[i])).any()==True:\n",
        "                cnt=cnt+1\n",
        "        return {\n",
        "            'epoch': epoch,\n",
        "            'loss': round(loss, 3),\n",
        "            'precision': round(report['micro avg']['precision'], 3),\n",
        "            'recall': round(report['micro avg']['recall'], 3),\n",
        "            'f1': round(report['micro avg']['f1-score'], 3),\n",
        "            'at_1': round(cnt/len(fin_outputs_lb), 3),\n",
        "            # 'prediction': fin_outputs,\n",
        "            # 'groundtruth': fin_targets\n",
        "        }"
      ],
      "metadata": {
        "id": "NFqeh6bwkTWi"
      },
      "execution_count": 10,
      "outputs": []
    },
    {
      "cell_type": "markdown",
      "source": [
        "#### **Some preparations for training**"
      ],
      "metadata": {
        "id": "OH7h61BTN-pH"
      }
    },
    {
      "cell_type": "code",
      "source": [
        "device = 'cuda' if cuda.is_available() else 'cpu'\n",
        "\n",
        "# The switchs of the additional textual features we use.\n",
        "# In here, we turn on all the extra textual features.\n",
        "fea_config = {\n",
        "        'code_fea' : True,\n",
        "        'word_cnt' : True,\n",
        "        'readability' : True,\n",
        "        'sentiment' : True\n",
        "    }\n",
        "\n",
        "# We use the Binary Cross Entropy loss with logits, which combines a sigmoid layer and the binary cross-entropy loss in a single class.\n",
        "loss_fn = torch.nn.BCEWithLogitsLoss()\n",
        "max_len = 256"
      ],
      "metadata": {
        "id": "YZJw0pPC5VtI"
      },
      "execution_count": 11,
      "outputs": []
    },
    {
      "cell_type": "code",
      "source": [
        "# Let's load the data with Dataset and Dataloader classes.\n",
        "training_set = PostDataset(post_train, tokenizer, max_len, fea_config, device)\n",
        "test_set = PostDataset(post_test, tokenizer, max_len, fea_config, device)\n",
        "\n",
        "train_params = {'batch_size': 16,\n",
        "                        'shuffle': True,\n",
        "                        'num_workers': 0\n",
        "                        }\n",
        "\n",
        "train_loader = DataLoader(training_set, **train_params)\n",
        "\n",
        "\n",
        "test_params = {'batch_size': 4,\n",
        "                        'shuffle': False,\n",
        "                        'num_workers': 0\n",
        "                        }\n",
        "\n",
        "test_loader = DataLoader(test_set, **test_params)"
      ],
      "metadata": {
        "id": "CKRgqffbSuY0"
      },
      "execution_count": 12,
      "outputs": []
    },
    {
      "cell_type": "markdown",
      "source": [
        "#### **The definition of the training class**\n",
        "\n",
        "We define a class to help us train the model.\n",
        "\n",
        "It is not mandatory, you can write your own training codes.\n",
        "\n",
        "We also set different learning rates for different components of the model. We got the learning rates by trial and error. ✨"
      ],
      "metadata": {
        "id": "LJL_JZkf1N0r"
      }
    },
    {
      "cell_type": "code",
      "source": [
        "class Train():\n",
        "    def __init__(self, model, train_loader, test_loader, device):\n",
        "        self.model = model\n",
        "        self.device = device\n",
        "        self.train_loader = train_loader\n",
        "        self.test_loader = test_loader\n",
        "        self.optimizer = torch.optim.Adam(params = self.model.parameters())\n",
        "        return\n",
        "\n",
        "    def train_one_epoch(self, epoch):\n",
        "        self.model.train()\n",
        "        total_loss = 0\n",
        "        cnt = 0\n",
        "        for _, data in enumerate(self.train_loader, 0):\n",
        "            cnt = cnt + len(data['targets'])\n",
        "            targets = data['targets'].to(self.device, dtype = torch.float)\n",
        "            for k,v in data.items():\n",
        "                data[k] = v.to(self.device, dtype = torch.long)\n",
        "            outputs = self.model(**data)\n",
        "            loss = self.model.loss_fn(outputs, targets)\n",
        "            total_loss = total_loss + loss.item()\n",
        "            self.optimizer.zero_grad()\n",
        "            loss.backward()\n",
        "            self.optimizer.step()\n",
        "        print(f'Epoch: {epoch}, Loss:  {total_loss/cnt}')\n",
        "        return total_loss/cnt\n",
        "\n",
        "    def train(self, n_epochs=1000, lr_bert = 1e-03, lr_fc = 1e-05):\n",
        "        # Here, we set different learning rates for different layers.\n",
        "        self.optimizer = torch.optim.Adam([\n",
        "                {'params': self.model.l1.parameters(),'lr': lr_bert},\n",
        "                {'params': self.model.l3.parameters(), 'lr': lr_fc},\n",
        "                {'params': self.model.l4.parameters(), 'lr': lr_fc}\n",
        "        ])\n",
        "\n",
        "        for epoch in tqdm(range(n_epochs)):\n",
        "            loss = self.train_one_epoch(epoch)\n",
        "            # every 5 epoch, we check the performance on the test set\n",
        "            if epoch%5==0:\n",
        "                report = self.model.evaluation(epoch, self.test_loader)\n",
        "                print(report)\n",
        "\n",
        "        return loss, report\n",
        "\n",
        "    def evaluation(self):\n",
        "        ret = self.model.evaluation(0, self.test_loader)\n",
        "        return ret"
      ],
      "metadata": {
        "id": "o71-_PHf4G-6"
      },
      "execution_count": 13,
      "outputs": []
    },
    {
      "cell_type": "markdown",
      "source": [
        "#### **Understand the model structure**\n",
        "\n",
        "- visualization of the intention detection model and the BERT variant."
      ],
      "metadata": {
        "id": "5L77s-ltOPu2"
      }
    },
    {
      "cell_type": "code",
      "source": [
        "# Instantiate the intention detection framework.\n",
        "# Here, we pass our lucky pre-trained BERT variant to the intention detection classification model.\n",
        "model = IntentionBERT(fea_config, loss_fn, ptm = ptm)"
      ],
      "metadata": {
        "id": "VtcHMTu95ngg"
      },
      "execution_count": 14,
      "outputs": []
    },
    {
      "cell_type": "code",
      "source": [
        "model.to('cpu')\n",
        "# Visualize the model\n",
        "for _, data in enumerate(test_loader, 0):\n",
        "    sample_input = data\n",
        "    # model(**sample_input)\n",
        "    break\n",
        "\n",
        "def wrapped_forward(inputs):\n",
        "    return model(inputs['t_ids'].to('cpu'),\n",
        "                 inputs['t_mask'].to('cpu'),\n",
        "                 inputs['t_token_type_ids'].to('cpu'),\n",
        "                 inputs['d_ids'].to('cpu'),\n",
        "                 inputs['d_mask'].to('cpu'),\n",
        "                 inputs['d_token_type_ids'].to('cpu'),\n",
        "                 inputs['features'].to('cpu'),\n",
        "                 inputs['targets'].to('cpu'))\n",
        "\n",
        "# Perform a forward pass\n",
        "output = wrapped_forward(sample_input)\n",
        "\n",
        "dot = torchviz.make_dot(output, params=dict(model.named_parameters()))\n",
        "\n",
        "# Render the graph\n",
        "dot.render(\"model_graph\", format=\"png\")\n",
        "\n",
        "# Display the image\n",
        "from IPython.display import Image\n",
        "Image(\"model_graph.png\")"
      ],
      "metadata": {
        "id": "fHUyFaWHDdZx"
      },
      "execution_count": null,
      "outputs": []
    },
    {
      "cell_type": "markdown",
      "source": [
        "#### **What are the parameters the model has?**"
      ],
      "metadata": {
        "id": "qeSYZw3SOh0r"
      }
    },
    {
      "cell_type": "code",
      "source": [
        "# This function outputs the layers/parameters of the classification model.\n",
        "# The True/False after the named layers/parameters indicate whether the they will be updated durning back propagation.\n",
        "def show_parameters(model):\n",
        "    for k,v in model.named_parameters():\n",
        "        print('{}: {}'.format(k, v.requires_grad))"
      ],
      "metadata": {
        "id": "Gl1Shi2AvOvs"
      },
      "execution_count": null,
      "outputs": []
    },
    {
      "cell_type": "code",
      "source": [
        "show_parameters(model)"
      ],
      "metadata": {
        "id": "ez6-H4TdvYo3"
      },
      "execution_count": null,
      "outputs": []
    },
    {
      "cell_type": "markdown",
      "source": [
        "#### **Freezing the parameters**\n",
        "\n",
        "Now, we try to freeze these layers/parameters with the following function.\n",
        "\n",
        "We pre-defined two types of the freezing strategies for the PTMs:\n",
        "\n",
        "*   Type 1: The pre-trained BERT model is totally freezed.\n",
        "\n",
        "*   Type 2: Only the pooler layer is unfreezed.\n",
        "\n",
        "*   Type 3 (To be defined by yourself!): Define the freezing scheme yourselves based on the structure of your lucky PTM. ;)\n",
        "\n",
        "You can compare the performance when carrying out different freezing strategies."
      ],
      "metadata": {
        "id": "H87ezyAwHE3N"
      }
    },
    {
      "cell_type": "code",
      "source": [
        "def requires_grad_setting(model, type = 1, verbose = True):\n",
        "    # Enable grad for all\n",
        "    for p in model.parameters():\n",
        "        p.requires_grad = True\n",
        "\n",
        "    if type == 1:\n",
        "        # Freeze all parameters in l1, l1 is defined as the PTM being used.\n",
        "        for p in model.l1.parameters():\n",
        "            p.requires_grad = False\n",
        "    elif type == 2:\n",
        "        # Only update the pooler layer in the PTM (freeze other layers)\n",
        "        for k,v in model.l1.named_parameters():\n",
        "            if ('pooler' in k):\n",
        "                v.requires_grad = True\n",
        "            else:\n",
        "                v.requires_grad = False\n",
        "    elif type == 3:\n",
        "        for k,v in model.l1.named_parameters():\n",
        "            # Define your own freezing scheme by referring to the output of the last coding block.\n",
        "            if ('pooler' in k) or ('encoder.layer.1' in k):\n",
        "                v.requires_grad = False\n",
        "            else:\n",
        "                v.requires_grad = True\n",
        "\n",
        "    if verbose == True:\n",
        "        show_parameters(model)\n"
      ],
      "metadata": {
        "id": "UvLjHa-6vGZ-"
      },
      "execution_count": null,
      "outputs": []
    },
    {
      "cell_type": "code",
      "source": [
        "# Freeze parameters with this function\n",
        "requires_grad_setting(model, type = 1)"
      ],
      "metadata": {
        "id": "t8X1owX_wa-C"
      },
      "execution_count": null,
      "outputs": []
    },
    {
      "cell_type": "markdown",
      "source": [
        "#### **Model Training**\n",
        "\n",
        "Finally, we train the model.\n",
        "\n",
        "Compare the performance after an adequate number of epochs with your deskmates/classmates who have different freezing settings and lucky pre-trained BERT Models.\n",
        "\n",
        "You can stop when the scores seem to stagnate, similar to [early stopping](https://en.wikipedia.org/wiki/Early_stopping#:~:text=In%20machine%20learning%2C%20early%20stopping,training%20data%20with%20each%20iteration.)."
      ],
      "metadata": {
        "id": "q_D9aVQAwh2k"
      }
    },
    {
      "cell_type": "code",
      "source": [
        "# Move the model to the GPU.\n",
        "model.to(device)\n",
        "\n",
        "# Instantiate the training class we implemented.\n",
        "train_manager = Train(model, train_loader, test_loader, device)"
      ],
      "metadata": {
        "id": "up3bO_PvHu58"
      },
      "execution_count": null,
      "outputs": []
    },
    {
      "cell_type": "code",
      "source": [
        "train_manager.train(n_epochs=100, lr_bert= 1e-03, lr_fc = 1e-05)"
      ],
      "metadata": {
        "id": "xJpPghi95rty"
      },
      "execution_count": null,
      "outputs": []
    },
    {
      "cell_type": "markdown",
      "source": [
        "#### **Check the performance of intention detection with a sample**\n",
        "\n",
        "Let's use the trained model to see its ability! Does your model predict correctly?"
      ],
      "metadata": {
        "id": "aPMotp_dCX8C"
      }
    },
    {
      "cell_type": "code",
      "source": [
        "# We select a random post from the test set.\n",
        "post_id = np.random.randint(0, len(test_set))\n",
        "post = post_test[post_id]\n",
        "output = model.predict_one_post(test_set[post_id])\n",
        "\n",
        "print(\"The post to be predicted:\\n\")\n",
        "for key, value in post.items():\n",
        "  if key in ['title', 'description', 'id', 'label' ]:\n",
        "    print(f\"{key}: {value}\")\n",
        "\n",
        "categories = ['Discrepancy', 'Errors', 'Review', 'Conceptual', 'Learning', 'How-to', 'Other']\n",
        "\n",
        "print(\"\\nThe predicted intention(s):\")\n",
        "for i in range(len(output[1])):\n",
        "  if output[1][i]:\n",
        "    print(f\"{categories[i]}\")"
      ],
      "metadata": {
        "id": "befol8dK_vMN"
      },
      "execution_count": null,
      "outputs": []
    },
    {
      "cell_type": "code",
      "source": [],
      "metadata": {
        "id": "jzJdgc2mjo6W"
      },
      "execution_count": null,
      "outputs": []
    }
  ]
}